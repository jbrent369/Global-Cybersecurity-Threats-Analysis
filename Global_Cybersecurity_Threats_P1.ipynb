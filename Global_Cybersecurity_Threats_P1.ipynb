{
 "cells": [
  {
   "cell_type": "code",
   "execution_count": 32,
   "id": "1ff7882d-ced1-4a91-9aff-9c34b153b964",
   "metadata": {},
   "outputs": [],
   "source": [
    "import pandas as pd\n",
    "import plotly.express as px\n",
    "import folium\n",
    "import json\n",
    "from IPython.display import IFrame  \n",
    "import plotly.io as pio  \n",
    "from html2image import Html2Image"
   ]
  },
  {
   "cell_type": "code",
   "execution_count": 2,
   "id": "e88016b0-90e7-4df3-a2ac-93918ac49925",
   "metadata": {},
   "outputs": [
    {
     "data": {
      "text/html": [
       "<div>\n",
       "<style scoped>\n",
       "    .dataframe tbody tr th:only-of-type {\n",
       "        vertical-align: middle;\n",
       "    }\n",
       "\n",
       "    .dataframe tbody tr th {\n",
       "        vertical-align: top;\n",
       "    }\n",
       "\n",
       "    .dataframe thead th {\n",
       "        text-align: right;\n",
       "    }\n",
       "</style>\n",
       "<table border=\"1\" class=\"dataframe\">\n",
       "  <thead>\n",
       "    <tr style=\"text-align: right;\">\n",
       "      <th></th>\n",
       "      <th>Country</th>\n",
       "      <th>Year</th>\n",
       "      <th>Attack Type</th>\n",
       "      <th>Target Industry</th>\n",
       "      <th>Financial Loss (in Million $)</th>\n",
       "      <th>Number of Affected Users</th>\n",
       "      <th>Attack Source</th>\n",
       "      <th>Security Vulnerability Type</th>\n",
       "      <th>Defense Mechanism Used</th>\n",
       "      <th>Incident Resolution Time (in Hours)</th>\n",
       "    </tr>\n",
       "  </thead>\n",
       "  <tbody>\n",
       "    <tr>\n",
       "      <th>0</th>\n",
       "      <td>China</td>\n",
       "      <td>2019</td>\n",
       "      <td>Phishing</td>\n",
       "      <td>Education</td>\n",
       "      <td>80.53</td>\n",
       "      <td>773169</td>\n",
       "      <td>Hacker Group</td>\n",
       "      <td>Unpatched Software</td>\n",
       "      <td>VPN</td>\n",
       "      <td>63</td>\n",
       "    </tr>\n",
       "    <tr>\n",
       "      <th>1</th>\n",
       "      <td>China</td>\n",
       "      <td>2019</td>\n",
       "      <td>Ransomware</td>\n",
       "      <td>Retail</td>\n",
       "      <td>62.19</td>\n",
       "      <td>295961</td>\n",
       "      <td>Hacker Group</td>\n",
       "      <td>Unpatched Software</td>\n",
       "      <td>Firewall</td>\n",
       "      <td>71</td>\n",
       "    </tr>\n",
       "    <tr>\n",
       "      <th>2</th>\n",
       "      <td>India</td>\n",
       "      <td>2017</td>\n",
       "      <td>Man-in-the-Middle</td>\n",
       "      <td>IT</td>\n",
       "      <td>38.65</td>\n",
       "      <td>605895</td>\n",
       "      <td>Hacker Group</td>\n",
       "      <td>Weak Passwords</td>\n",
       "      <td>VPN</td>\n",
       "      <td>20</td>\n",
       "    </tr>\n",
       "    <tr>\n",
       "      <th>3</th>\n",
       "      <td>UK</td>\n",
       "      <td>2024</td>\n",
       "      <td>Ransomware</td>\n",
       "      <td>Telecommunications</td>\n",
       "      <td>41.44</td>\n",
       "      <td>659320</td>\n",
       "      <td>Nation-state</td>\n",
       "      <td>Social Engineering</td>\n",
       "      <td>AI-based Detection</td>\n",
       "      <td>7</td>\n",
       "    </tr>\n",
       "    <tr>\n",
       "      <th>4</th>\n",
       "      <td>Germany</td>\n",
       "      <td>2018</td>\n",
       "      <td>Man-in-the-Middle</td>\n",
       "      <td>IT</td>\n",
       "      <td>74.41</td>\n",
       "      <td>810682</td>\n",
       "      <td>Insider</td>\n",
       "      <td>Social Engineering</td>\n",
       "      <td>VPN</td>\n",
       "      <td>68</td>\n",
       "    </tr>\n",
       "    <tr>\n",
       "      <th>...</th>\n",
       "      <td>...</td>\n",
       "      <td>...</td>\n",
       "      <td>...</td>\n",
       "      <td>...</td>\n",
       "      <td>...</td>\n",
       "      <td>...</td>\n",
       "      <td>...</td>\n",
       "      <td>...</td>\n",
       "      <td>...</td>\n",
       "      <td>...</td>\n",
       "    </tr>\n",
       "    <tr>\n",
       "      <th>2995</th>\n",
       "      <td>UK</td>\n",
       "      <td>2021</td>\n",
       "      <td>Ransomware</td>\n",
       "      <td>Government</td>\n",
       "      <td>51.42</td>\n",
       "      <td>190694</td>\n",
       "      <td>Unknown</td>\n",
       "      <td>Social Engineering</td>\n",
       "      <td>Firewall</td>\n",
       "      <td>52</td>\n",
       "    </tr>\n",
       "    <tr>\n",
       "      <th>2996</th>\n",
       "      <td>Brazil</td>\n",
       "      <td>2023</td>\n",
       "      <td>SQL Injection</td>\n",
       "      <td>Telecommunications</td>\n",
       "      <td>30.28</td>\n",
       "      <td>892843</td>\n",
       "      <td>Hacker Group</td>\n",
       "      <td>Zero-day</td>\n",
       "      <td>VPN</td>\n",
       "      <td>26</td>\n",
       "    </tr>\n",
       "    <tr>\n",
       "      <th>2997</th>\n",
       "      <td>Brazil</td>\n",
       "      <td>2017</td>\n",
       "      <td>SQL Injection</td>\n",
       "      <td>IT</td>\n",
       "      <td>32.97</td>\n",
       "      <td>734737</td>\n",
       "      <td>Nation-state</td>\n",
       "      <td>Weak Passwords</td>\n",
       "      <td>AI-based Detection</td>\n",
       "      <td>30</td>\n",
       "    </tr>\n",
       "    <tr>\n",
       "      <th>2998</th>\n",
       "      <td>UK</td>\n",
       "      <td>2022</td>\n",
       "      <td>SQL Injection</td>\n",
       "      <td>IT</td>\n",
       "      <td>32.17</td>\n",
       "      <td>379954</td>\n",
       "      <td>Insider</td>\n",
       "      <td>Unpatched Software</td>\n",
       "      <td>Firewall</td>\n",
       "      <td>9</td>\n",
       "    </tr>\n",
       "    <tr>\n",
       "      <th>2999</th>\n",
       "      <td>Germany</td>\n",
       "      <td>2021</td>\n",
       "      <td>SQL Injection</td>\n",
       "      <td>Retail</td>\n",
       "      <td>48.20</td>\n",
       "      <td>480984</td>\n",
       "      <td>Unknown</td>\n",
       "      <td>Zero-day</td>\n",
       "      <td>VPN</td>\n",
       "      <td>64</td>\n",
       "    </tr>\n",
       "  </tbody>\n",
       "</table>\n",
       "<p>3000 rows × 10 columns</p>\n",
       "</div>"
      ],
      "text/plain": [
       "      Country  Year        Attack Type     Target Industry  \\\n",
       "0       China  2019           Phishing           Education   \n",
       "1       China  2019         Ransomware              Retail   \n",
       "2       India  2017  Man-in-the-Middle                  IT   \n",
       "3          UK  2024         Ransomware  Telecommunications   \n",
       "4     Germany  2018  Man-in-the-Middle                  IT   \n",
       "...       ...   ...                ...                 ...   \n",
       "2995       UK  2021         Ransomware          Government   \n",
       "2996   Brazil  2023      SQL Injection  Telecommunications   \n",
       "2997   Brazil  2017      SQL Injection                  IT   \n",
       "2998       UK  2022      SQL Injection                  IT   \n",
       "2999  Germany  2021      SQL Injection              Retail   \n",
       "\n",
       "      Financial Loss (in Million $)  Number of Affected Users Attack Source  \\\n",
       "0                             80.53                    773169  Hacker Group   \n",
       "1                             62.19                    295961  Hacker Group   \n",
       "2                             38.65                    605895  Hacker Group   \n",
       "3                             41.44                    659320  Nation-state   \n",
       "4                             74.41                    810682       Insider   \n",
       "...                             ...                       ...           ...   \n",
       "2995                          51.42                    190694       Unknown   \n",
       "2996                          30.28                    892843  Hacker Group   \n",
       "2997                          32.97                    734737  Nation-state   \n",
       "2998                          32.17                    379954       Insider   \n",
       "2999                          48.20                    480984       Unknown   \n",
       "\n",
       "     Security Vulnerability Type Defense Mechanism Used  \\\n",
       "0             Unpatched Software                    VPN   \n",
       "1             Unpatched Software               Firewall   \n",
       "2                 Weak Passwords                    VPN   \n",
       "3             Social Engineering     AI-based Detection   \n",
       "4             Social Engineering                    VPN   \n",
       "...                          ...                    ...   \n",
       "2995          Social Engineering               Firewall   \n",
       "2996                    Zero-day                    VPN   \n",
       "2997              Weak Passwords     AI-based Detection   \n",
       "2998          Unpatched Software               Firewall   \n",
       "2999                    Zero-day                    VPN   \n",
       "\n",
       "      Incident Resolution Time (in Hours)  \n",
       "0                                      63  \n",
       "1                                      71  \n",
       "2                                      20  \n",
       "3                                       7  \n",
       "4                                      68  \n",
       "...                                   ...  \n",
       "2995                                   52  \n",
       "2996                                   26  \n",
       "2997                                   30  \n",
       "2998                                    9  \n",
       "2999                                   64  \n",
       "\n",
       "[3000 rows x 10 columns]"
      ]
     },
     "execution_count": 2,
     "metadata": {},
     "output_type": "execute_result"
    }
   ],
   "source": [
    "df=pd.read_csv(r'Global_Cybersecurity_Threats_2015-2024.csv')\n",
    "df"
   ]
  },
  {
   "cell_type": "code",
   "execution_count": 3,
   "id": "67028130-14b8-41f3-a82b-da518e160534",
   "metadata": {},
   "outputs": [
    {
     "data": {
      "text/plain": [
       "np.int64(0)"
      ]
     },
     "execution_count": 3,
     "metadata": {},
     "output_type": "execute_result"
    }
   ],
   "source": [
    "#COUNT DUPLICATES\n",
    "df.duplicated().sum()"
   ]
  },
  {
   "cell_type": "code",
   "execution_count": 4,
   "id": "2febaa95-9280-42c1-bf44-a9a0cea07632",
   "metadata": {},
   "outputs": [
    {
     "data": {
      "text/plain": [
       "Country                                0\n",
       "Year                                   0\n",
       "Attack Type                            0\n",
       "Target Industry                        0\n",
       "Financial Loss (in Million $)          0\n",
       "Number of Affected Users               0\n",
       "Attack Source                          0\n",
       "Security Vulnerability Type            0\n",
       "Defense Mechanism Used                 0\n",
       "Incident Resolution Time (in Hours)    0\n",
       "dtype: int64"
      ]
     },
     "execution_count": 4,
     "metadata": {},
     "output_type": "execute_result"
    }
   ],
   "source": [
    "#COUNT NULL VALUES PER COLUMN\n",
    "df.isnull().sum()"
   ]
  },
  {
   "cell_type": "code",
   "execution_count": 5,
   "id": "d0260ac9-c1e7-4bc9-baab-d37ca85b46b8",
   "metadata": {},
   "outputs": [
    {
     "name": "stdout",
     "output_type": "stream",
     "text": [
      "<class 'pandas.core.frame.DataFrame'>\n",
      "RangeIndex: 3000 entries, 0 to 2999\n",
      "Data columns (total 10 columns):\n",
      " #   Column                               Non-Null Count  Dtype  \n",
      "---  ------                               --------------  -----  \n",
      " 0   Country                              3000 non-null   object \n",
      " 1   Year                                 3000 non-null   int64  \n",
      " 2   Attack Type                          3000 non-null   object \n",
      " 3   Target Industry                      3000 non-null   object \n",
      " 4   Financial Loss (in Million $)        3000 non-null   float64\n",
      " 5   Number of Affected Users             3000 non-null   int64  \n",
      " 6   Attack Source                        3000 non-null   object \n",
      " 7   Security Vulnerability Type          3000 non-null   object \n",
      " 8   Defense Mechanism Used               3000 non-null   object \n",
      " 9   Incident Resolution Time (in Hours)  3000 non-null   int64  \n",
      "dtypes: float64(1), int64(3), object(6)\n",
      "memory usage: 234.5+ KB\n"
     ]
    }
   ],
   "source": [
    "df.info()"
   ]
  },
  {
   "cell_type": "code",
   "execution_count": 6,
   "id": "0834ca3a-4acb-40fc-b5b7-603c5fb8d298",
   "metadata": {},
   "outputs": [
    {
     "name": "stdout",
     "output_type": "stream",
     "text": [
      "<class 'pandas.core.frame.DataFrame'>\n",
      "RangeIndex: 3000 entries, 0 to 2999\n",
      "Data columns (total 10 columns):\n",
      " #   Column                               Non-Null Count  Dtype  \n",
      "---  ------                               --------------  -----  \n",
      " 0   Country                              3000 non-null   object \n",
      " 1   Year                                 3000 non-null   object \n",
      " 2   Attack Type                          3000 non-null   object \n",
      " 3   Target Industry                      3000 non-null   object \n",
      " 4   Financial Loss (in Million $)        3000 non-null   float64\n",
      " 5   Number of Affected Users             3000 non-null   int64  \n",
      " 6   Attack Source                        3000 non-null   object \n",
      " 7   Security Vulnerability Type          3000 non-null   object \n",
      " 8   Defense Mechanism Used               3000 non-null   object \n",
      " 9   Incident Resolution Time (in Hours)  3000 non-null   int64  \n",
      "dtypes: float64(1), int64(2), object(7)\n",
      "memory usage: 234.5+ KB\n"
     ]
    }
   ],
   "source": [
    "#CHANGE YEAR COLUMN FORMAT FROM INT64 TO STR\n",
    "df['Year'] = df['Year'].astype(str)\n",
    "df.info()"
   ]
  },
  {
   "cell_type": "code",
   "execution_count": 7,
   "id": "f5884cf8-9677-4901-9497-7f251b85afd1",
   "metadata": {},
   "outputs": [
    {
     "data": {
      "text/plain": [
       "(3000, 10)"
      ]
     },
     "execution_count": 7,
     "metadata": {},
     "output_type": "execute_result"
    }
   ],
   "source": [
    "#COUNT NUMBER OF COLUMNS AND ROWS\n",
    "df.shape"
   ]
  },
  {
   "cell_type": "markdown",
   "id": "f302eb20-3e23-4fd5-90f0-bfacfaf243f4",
   "metadata": {},
   "source": [
    "**KEY FINDINGS / RESULTS | FINANCIAL IMPACT AND TRENDS**"
   ]
  },
  {
   "cell_type": "code",
   "execution_count": 8,
   "id": "f60e8c79-8e08-49d7-8371-1cb10470a36d",
   "metadata": {},
   "outputs": [
    {
     "data": {
      "text/html": [
       "<div>\n",
       "<style scoped>\n",
       "    .dataframe tbody tr th:only-of-type {\n",
       "        vertical-align: middle;\n",
       "    }\n",
       "\n",
       "    .dataframe tbody tr th {\n",
       "        vertical-align: top;\n",
       "    }\n",
       "\n",
       "    .dataframe thead th {\n",
       "        text-align: right;\n",
       "    }\n",
       "</style>\n",
       "<table border=\"1\" class=\"dataframe\">\n",
       "  <thead>\n",
       "    <tr style=\"text-align: right;\">\n",
       "      <th></th>\n",
       "      <th>Year</th>\n",
       "      <th>Financial Loss (in Million $)</th>\n",
       "      <th>Financial Loss</th>\n",
       "      <th>Financial Loss (in Billion $)</th>\n",
       "    </tr>\n",
       "  </thead>\n",
       "  <tbody>\n",
       "    <tr>\n",
       "      <th>0</th>\n",
       "      <td>2015</td>\n",
       "      <td>14510.21</td>\n",
       "      <td>1.451021e+10</td>\n",
       "      <td>14.51</td>\n",
       "    </tr>\n",
       "    <tr>\n",
       "      <th>1</th>\n",
       "      <td>2016</td>\n",
       "      <td>13947.26</td>\n",
       "      <td>1.394726e+10</td>\n",
       "      <td>13.95</td>\n",
       "    </tr>\n",
       "    <tr>\n",
       "      <th>2</th>\n",
       "      <td>2017</td>\n",
       "      <td>16261.68</td>\n",
       "      <td>1.626168e+10</td>\n",
       "      <td>16.26</td>\n",
       "    </tr>\n",
       "    <tr>\n",
       "      <th>3</th>\n",
       "      <td>2018</td>\n",
       "      <td>14720.48</td>\n",
       "      <td>1.472048e+10</td>\n",
       "      <td>14.72</td>\n",
       "    </tr>\n",
       "    <tr>\n",
       "      <th>4</th>\n",
       "      <td>2019</td>\n",
       "      <td>13134.69</td>\n",
       "      <td>1.313469e+10</td>\n",
       "      <td>13.13</td>\n",
       "    </tr>\n",
       "    <tr>\n",
       "      <th>5</th>\n",
       "      <td>2020</td>\n",
       "      <td>15767.95</td>\n",
       "      <td>1.576795e+10</td>\n",
       "      <td>15.77</td>\n",
       "    </tr>\n",
       "    <tr>\n",
       "      <th>6</th>\n",
       "      <td>2021</td>\n",
       "      <td>15873.41</td>\n",
       "      <td>1.587341e+10</td>\n",
       "      <td>15.87</td>\n",
       "    </tr>\n",
       "    <tr>\n",
       "      <th>7</th>\n",
       "      <td>2022</td>\n",
       "      <td>15870.86</td>\n",
       "      <td>1.587086e+10</td>\n",
       "      <td>15.87</td>\n",
       "    </tr>\n",
       "    <tr>\n",
       "      <th>8</th>\n",
       "      <td>2023</td>\n",
       "      <td>15958.08</td>\n",
       "      <td>1.595808e+10</td>\n",
       "      <td>15.96</td>\n",
       "    </tr>\n",
       "    <tr>\n",
       "      <th>9</th>\n",
       "      <td>2024</td>\n",
       "      <td>15434.29</td>\n",
       "      <td>1.543429e+10</td>\n",
       "      <td>15.43</td>\n",
       "    </tr>\n",
       "  </tbody>\n",
       "</table>\n",
       "</div>"
      ],
      "text/plain": [
       "   Year  Financial Loss (in Million $)  Financial Loss  \\\n",
       "0  2015                       14510.21    1.451021e+10   \n",
       "1  2016                       13947.26    1.394726e+10   \n",
       "2  2017                       16261.68    1.626168e+10   \n",
       "3  2018                       14720.48    1.472048e+10   \n",
       "4  2019                       13134.69    1.313469e+10   \n",
       "5  2020                       15767.95    1.576795e+10   \n",
       "6  2021                       15873.41    1.587341e+10   \n",
       "7  2022                       15870.86    1.587086e+10   \n",
       "8  2023                       15958.08    1.595808e+10   \n",
       "9  2024                       15434.29    1.543429e+10   \n",
       "\n",
       "   Financial Loss (in Billion $)  \n",
       "0                          14.51  \n",
       "1                          13.95  \n",
       "2                          16.26  \n",
       "3                          14.72  \n",
       "4                          13.13  \n",
       "5                          15.77  \n",
       "6                          15.87  \n",
       "7                          15.87  \n",
       "8                          15.96  \n",
       "9                          15.43  "
      ]
     },
     "execution_count": 8,
     "metadata": {},
     "output_type": "execute_result"
    }
   ],
   "source": [
    "#DATAFRAME FOR ANNUAL FINANCIAL LOSS\n",
    "df_financial_loss_annual = df.groupby('Year')['Financial Loss (in Million $)'].sum().reset_index()\n",
    "df_financial_loss_annual['Financial Loss'] = (df_financial_loss_annual['Financial Loss (in Million $)']*1e6).round(2)\n",
    "df_financial_loss_annual['Financial Loss (in Billion $)'] = (df_financial_loss_annual['Financial Loss (in Million $)']/1e3).round(2)\n",
    "df_financial_loss_annual"
   ]
  },
  {
   "cell_type": "code",
   "execution_count": 19,
   "id": "5df73c94-e1e7-4e39-a986-22bff48c80ed",
   "metadata": {},
   "outputs": [
    {
     "data": {
      "application/vnd.plotly.v1+json": {
       "config": {
        "plotlyServerURL": "https://plot.ly"
       },
       "data": [
        {
         "fillpattern": {
          "shape": ""
         },
         "hovertemplate": "Year=%{x}<br>Financial Loss=%{y}<extra></extra>",
         "legendgroup": "",
         "line": {
          "color": "white"
         },
         "marker": {
          "symbol": "circle"
         },
         "mode": "lines+markers",
         "name": "",
         "orientation": "v",
         "showlegend": false,
         "stackgroup": "1",
         "type": "scatter",
         "x": [
          "2015",
          "2016",
          "2017",
          "2018",
          "2019",
          "2020",
          "2021",
          "2022",
          "2023",
          "2024"
         ],
         "xaxis": "x",
         "y": {
          "_inputArray": {
           "0": 14510210000,
           "1": 13947260000,
           "2": 16261680000,
           "3": 14720480000,
           "4": 13134690000,
           "5": 15767950000,
           "6": 15873410000,
           "7": 15870860000,
           "8": 15958080000,
           "9": 15434290000,
           "bdata": "AACA3gEHC0IAAABjkvoJQgAAAFwsSg5CAAAAmEVrC0IAAIC2G3cIQgAAgJW+Xg1CAACAHgiRDUIAAADX0I8NQgAAANBnuQ1CAACAmqS/DEI=",
           "dtype": "f8",
           "shape": "10"
          },
          "bdata": "AACA3gEHC0IAAABjkvoJQgAAAFwsSg5CAAAAmEVrC0IAAIC2G3cIQgAAgJW+Xg1CAACAHgiRDUIAAADX0I8NQgAAANBnuQ1CAACAmqS/DEI=",
          "dtype": "f8"
         },
         "yaxis": "y"
        }
       ],
       "layout": {
        "font": {
         "color": "white"
        },
        "height": 300,
        "legend": {
         "tracegroupgap": 0
        },
        "paper_bgcolor": "Navy",
        "plot_bgcolor": "Navy",
        "template": {
         "data": {
          "bar": [
           {
            "error_x": {
             "color": "#2a3f5f"
            },
            "error_y": {
             "color": "#2a3f5f"
            },
            "marker": {
             "line": {
              "color": "#E5ECF6",
              "width": 0.5
             },
             "pattern": {
              "fillmode": "overlay",
              "size": 10,
              "solidity": 0.2
             }
            },
            "type": "bar"
           }
          ],
          "barpolar": [
           {
            "marker": {
             "line": {
              "color": "#E5ECF6",
              "width": 0.5
             },
             "pattern": {
              "fillmode": "overlay",
              "size": 10,
              "solidity": 0.2
             }
            },
            "type": "barpolar"
           }
          ],
          "carpet": [
           {
            "aaxis": {
             "endlinecolor": "#2a3f5f",
             "gridcolor": "white",
             "linecolor": "white",
             "minorgridcolor": "white",
             "startlinecolor": "#2a3f5f"
            },
            "baxis": {
             "endlinecolor": "#2a3f5f",
             "gridcolor": "white",
             "linecolor": "white",
             "minorgridcolor": "white",
             "startlinecolor": "#2a3f5f"
            },
            "type": "carpet"
           }
          ],
          "choropleth": [
           {
            "colorbar": {
             "outlinewidth": 0,
             "ticks": ""
            },
            "type": "choropleth"
           }
          ],
          "contour": [
           {
            "colorbar": {
             "outlinewidth": 0,
             "ticks": ""
            },
            "colorscale": [
             [
              0,
              "#0d0887"
             ],
             [
              0.1111111111111111,
              "#46039f"
             ],
             [
              0.2222222222222222,
              "#7201a8"
             ],
             [
              0.3333333333333333,
              "#9c179e"
             ],
             [
              0.4444444444444444,
              "#bd3786"
             ],
             [
              0.5555555555555556,
              "#d8576b"
             ],
             [
              0.6666666666666666,
              "#ed7953"
             ],
             [
              0.7777777777777778,
              "#fb9f3a"
             ],
             [
              0.8888888888888888,
              "#fdca26"
             ],
             [
              1,
              "#f0f921"
             ]
            ],
            "type": "contour"
           }
          ],
          "contourcarpet": [
           {
            "colorbar": {
             "outlinewidth": 0,
             "ticks": ""
            },
            "type": "contourcarpet"
           }
          ],
          "heatmap": [
           {
            "colorbar": {
             "outlinewidth": 0,
             "ticks": ""
            },
            "colorscale": [
             [
              0,
              "#0d0887"
             ],
             [
              0.1111111111111111,
              "#46039f"
             ],
             [
              0.2222222222222222,
              "#7201a8"
             ],
             [
              0.3333333333333333,
              "#9c179e"
             ],
             [
              0.4444444444444444,
              "#bd3786"
             ],
             [
              0.5555555555555556,
              "#d8576b"
             ],
             [
              0.6666666666666666,
              "#ed7953"
             ],
             [
              0.7777777777777778,
              "#fb9f3a"
             ],
             [
              0.8888888888888888,
              "#fdca26"
             ],
             [
              1,
              "#f0f921"
             ]
            ],
            "type": "heatmap"
           }
          ],
          "histogram": [
           {
            "marker": {
             "pattern": {
              "fillmode": "overlay",
              "size": 10,
              "solidity": 0.2
             }
            },
            "type": "histogram"
           }
          ],
          "histogram2d": [
           {
            "colorbar": {
             "outlinewidth": 0,
             "ticks": ""
            },
            "colorscale": [
             [
              0,
              "#0d0887"
             ],
             [
              0.1111111111111111,
              "#46039f"
             ],
             [
              0.2222222222222222,
              "#7201a8"
             ],
             [
              0.3333333333333333,
              "#9c179e"
             ],
             [
              0.4444444444444444,
              "#bd3786"
             ],
             [
              0.5555555555555556,
              "#d8576b"
             ],
             [
              0.6666666666666666,
              "#ed7953"
             ],
             [
              0.7777777777777778,
              "#fb9f3a"
             ],
             [
              0.8888888888888888,
              "#fdca26"
             ],
             [
              1,
              "#f0f921"
             ]
            ],
            "type": "histogram2d"
           }
          ],
          "histogram2dcontour": [
           {
            "colorbar": {
             "outlinewidth": 0,
             "ticks": ""
            },
            "colorscale": [
             [
              0,
              "#0d0887"
             ],
             [
              0.1111111111111111,
              "#46039f"
             ],
             [
              0.2222222222222222,
              "#7201a8"
             ],
             [
              0.3333333333333333,
              "#9c179e"
             ],
             [
              0.4444444444444444,
              "#bd3786"
             ],
             [
              0.5555555555555556,
              "#d8576b"
             ],
             [
              0.6666666666666666,
              "#ed7953"
             ],
             [
              0.7777777777777778,
              "#fb9f3a"
             ],
             [
              0.8888888888888888,
              "#fdca26"
             ],
             [
              1,
              "#f0f921"
             ]
            ],
            "type": "histogram2dcontour"
           }
          ],
          "mesh3d": [
           {
            "colorbar": {
             "outlinewidth": 0,
             "ticks": ""
            },
            "type": "mesh3d"
           }
          ],
          "parcoords": [
           {
            "line": {
             "colorbar": {
              "outlinewidth": 0,
              "ticks": ""
             }
            },
            "type": "parcoords"
           }
          ],
          "pie": [
           {
            "automargin": true,
            "type": "pie"
           }
          ],
          "scatter": [
           {
            "fillpattern": {
             "fillmode": "overlay",
             "size": 10,
             "solidity": 0.2
            },
            "type": "scatter"
           }
          ],
          "scatter3d": [
           {
            "line": {
             "colorbar": {
              "outlinewidth": 0,
              "ticks": ""
             }
            },
            "marker": {
             "colorbar": {
              "outlinewidth": 0,
              "ticks": ""
             }
            },
            "type": "scatter3d"
           }
          ],
          "scattercarpet": [
           {
            "marker": {
             "colorbar": {
              "outlinewidth": 0,
              "ticks": ""
             }
            },
            "type": "scattercarpet"
           }
          ],
          "scattergeo": [
           {
            "marker": {
             "colorbar": {
              "outlinewidth": 0,
              "ticks": ""
             }
            },
            "type": "scattergeo"
           }
          ],
          "scattergl": [
           {
            "marker": {
             "colorbar": {
              "outlinewidth": 0,
              "ticks": ""
             }
            },
            "type": "scattergl"
           }
          ],
          "scattermap": [
           {
            "marker": {
             "colorbar": {
              "outlinewidth": 0,
              "ticks": ""
             }
            },
            "type": "scattermap"
           }
          ],
          "scattermapbox": [
           {
            "marker": {
             "colorbar": {
              "outlinewidth": 0,
              "ticks": ""
             }
            },
            "type": "scattermapbox"
           }
          ],
          "scatterpolar": [
           {
            "marker": {
             "colorbar": {
              "outlinewidth": 0,
              "ticks": ""
             }
            },
            "type": "scatterpolar"
           }
          ],
          "scatterpolargl": [
           {
            "marker": {
             "colorbar": {
              "outlinewidth": 0,
              "ticks": ""
             }
            },
            "type": "scatterpolargl"
           }
          ],
          "scatterternary": [
           {
            "marker": {
             "colorbar": {
              "outlinewidth": 0,
              "ticks": ""
             }
            },
            "type": "scatterternary"
           }
          ],
          "surface": [
           {
            "colorbar": {
             "outlinewidth": 0,
             "ticks": ""
            },
            "colorscale": [
             [
              0,
              "#0d0887"
             ],
             [
              0.1111111111111111,
              "#46039f"
             ],
             [
              0.2222222222222222,
              "#7201a8"
             ],
             [
              0.3333333333333333,
              "#9c179e"
             ],
             [
              0.4444444444444444,
              "#bd3786"
             ],
             [
              0.5555555555555556,
              "#d8576b"
             ],
             [
              0.6666666666666666,
              "#ed7953"
             ],
             [
              0.7777777777777778,
              "#fb9f3a"
             ],
             [
              0.8888888888888888,
              "#fdca26"
             ],
             [
              1,
              "#f0f921"
             ]
            ],
            "type": "surface"
           }
          ],
          "table": [
           {
            "cells": {
             "fill": {
              "color": "#EBF0F8"
             },
             "line": {
              "color": "white"
             }
            },
            "header": {
             "fill": {
              "color": "#C8D4E3"
             },
             "line": {
              "color": "white"
             }
            },
            "type": "table"
           }
          ]
         },
         "layout": {
          "annotationdefaults": {
           "arrowcolor": "#2a3f5f",
           "arrowhead": 0,
           "arrowwidth": 1
          },
          "autotypenumbers": "strict",
          "coloraxis": {
           "colorbar": {
            "outlinewidth": 0,
            "ticks": ""
           }
          },
          "colorscale": {
           "diverging": [
            [
             0,
             "#8e0152"
            ],
            [
             0.1,
             "#c51b7d"
            ],
            [
             0.2,
             "#de77ae"
            ],
            [
             0.3,
             "#f1b6da"
            ],
            [
             0.4,
             "#fde0ef"
            ],
            [
             0.5,
             "#f7f7f7"
            ],
            [
             0.6,
             "#e6f5d0"
            ],
            [
             0.7,
             "#b8e186"
            ],
            [
             0.8,
             "#7fbc41"
            ],
            [
             0.9,
             "#4d9221"
            ],
            [
             1,
             "#276419"
            ]
           ],
           "sequential": [
            [
             0,
             "#0d0887"
            ],
            [
             0.1111111111111111,
             "#46039f"
            ],
            [
             0.2222222222222222,
             "#7201a8"
            ],
            [
             0.3333333333333333,
             "#9c179e"
            ],
            [
             0.4444444444444444,
             "#bd3786"
            ],
            [
             0.5555555555555556,
             "#d8576b"
            ],
            [
             0.6666666666666666,
             "#ed7953"
            ],
            [
             0.7777777777777778,
             "#fb9f3a"
            ],
            [
             0.8888888888888888,
             "#fdca26"
            ],
            [
             1,
             "#f0f921"
            ]
           ],
           "sequentialminus": [
            [
             0,
             "#0d0887"
            ],
            [
             0.1111111111111111,
             "#46039f"
            ],
            [
             0.2222222222222222,
             "#7201a8"
            ],
            [
             0.3333333333333333,
             "#9c179e"
            ],
            [
             0.4444444444444444,
             "#bd3786"
            ],
            [
             0.5555555555555556,
             "#d8576b"
            ],
            [
             0.6666666666666666,
             "#ed7953"
            ],
            [
             0.7777777777777778,
             "#fb9f3a"
            ],
            [
             0.8888888888888888,
             "#fdca26"
            ],
            [
             1,
             "#f0f921"
            ]
           ]
          },
          "colorway": [
           "#636efa",
           "#EF553B",
           "#00cc96",
           "#ab63fa",
           "#FFA15A",
           "#19d3f3",
           "#FF6692",
           "#B6E880",
           "#FF97FF",
           "#FECB52"
          ],
          "font": {
           "color": "#2a3f5f"
          },
          "geo": {
           "bgcolor": "white",
           "lakecolor": "white",
           "landcolor": "#E5ECF6",
           "showlakes": true,
           "showland": true,
           "subunitcolor": "white"
          },
          "hoverlabel": {
           "align": "left"
          },
          "hovermode": "closest",
          "mapbox": {
           "style": "light"
          },
          "paper_bgcolor": "white",
          "plot_bgcolor": "#E5ECF6",
          "polar": {
           "angularaxis": {
            "gridcolor": "white",
            "linecolor": "white",
            "ticks": ""
           },
           "bgcolor": "#E5ECF6",
           "radialaxis": {
            "gridcolor": "white",
            "linecolor": "white",
            "ticks": ""
           }
          },
          "scene": {
           "xaxis": {
            "backgroundcolor": "#E5ECF6",
            "gridcolor": "white",
            "gridwidth": 2,
            "linecolor": "white",
            "showbackground": true,
            "ticks": "",
            "zerolinecolor": "white"
           },
           "yaxis": {
            "backgroundcolor": "#E5ECF6",
            "gridcolor": "white",
            "gridwidth": 2,
            "linecolor": "white",
            "showbackground": true,
            "ticks": "",
            "zerolinecolor": "white"
           },
           "zaxis": {
            "backgroundcolor": "#E5ECF6",
            "gridcolor": "white",
            "gridwidth": 2,
            "linecolor": "white",
            "showbackground": true,
            "ticks": "",
            "zerolinecolor": "white"
           }
          },
          "shapedefaults": {
           "line": {
            "color": "#2a3f5f"
           }
          },
          "ternary": {
           "aaxis": {
            "gridcolor": "white",
            "linecolor": "white",
            "ticks": ""
           },
           "baxis": {
            "gridcolor": "white",
            "linecolor": "white",
            "ticks": ""
           },
           "bgcolor": "#E5ECF6",
           "caxis": {
            "gridcolor": "white",
            "linecolor": "white",
            "ticks": ""
           }
          },
          "title": {
           "x": 0.05
          },
          "xaxis": {
           "automargin": true,
           "gridcolor": "white",
           "linecolor": "white",
           "ticks": "",
           "title": {
            "standoff": 15
           },
           "zerolinecolor": "white",
           "zerolinewidth": 2
          },
          "yaxis": {
           "automargin": true,
           "gridcolor": "white",
           "linecolor": "white",
           "ticks": "",
           "title": {
            "standoff": 15
           },
           "zerolinecolor": "white",
           "zerolinewidth": 2
          }
         }
        },
        "title": {
         "text": "<span style='color:white;'>Total Financial Loss Over Time (in Billion $)</span>"
        },
        "width": 1250,
        "xaxis": {
         "anchor": "y",
         "autorange": true,
         "domain": [
          0,
          1
         ],
         "range": [
          0,
          9
         ],
         "showgrid": false,
         "title": {
          "text": "Year"
         },
         "type": "category"
        },
        "yaxis": {
         "anchor": "x",
         "domain": [
          0,
          1
         ],
         "range": [
          12000000000,
          17000000000
         ],
         "showgrid": false,
         "title": {
          "text": "Financial Loss"
         },
         "type": "linear"
        }
       }
      },
      "image/png": "[encoded data removed]"
     },
     "metadata": {},
     "output_type": "display_data"
    }
   ],
   "source": [
    "# AREA CHART OF TOTAL FINANCIAL LOSS OVER TIME\n",
    "fig_financial_loss_annual = px.area(df_financial_loss_annual, x='Year', y='Financial Loss', \n",
    "                                    title= \"<span style='color:white;'>Total Financial Loss Over Time (in Billion $)</span>\",\n",
    "                                    markers=True, color_discrete_sequence=['white'],\n",
    "                                    width=1250, height=300)\n",
    "fig_financial_loss_annual.update_layout(plot_bgcolor='Navy', paper_bgcolor='Navy',\n",
    "                                       yaxis=dict(range=[12000000000,17000000000], showgrid=False),\n",
    "                                       xaxis=dict(showgrid=False), font=dict(color='white'))\n",
    "\n",
    "fig_financial_loss_annual.show()\n",
    "\n",
    "fig_financial_loss_annual.write_image('fig_financial_loss_annual.png')"
   ]
  },
  {
   "cell_type": "code",
   "execution_count": 10,
   "id": "c48c1632-c0ba-4252-9d68-4512e0d1aceb",
   "metadata": {},
   "outputs": [
    {
     "data": {
      "text/html": [
       "<div>\n",
       "<style scoped>\n",
       "    .dataframe tbody tr th:only-of-type {\n",
       "        vertical-align: middle;\n",
       "    }\n",
       "\n",
       "    .dataframe tbody tr th {\n",
       "        vertical-align: top;\n",
       "    }\n",
       "\n",
       "    .dataframe thead th {\n",
       "        text-align: right;\n",
       "    }\n",
       "</style>\n",
       "<table border=\"1\" class=\"dataframe\">\n",
       "  <thead>\n",
       "    <tr style=\"text-align: right;\">\n",
       "      <th></th>\n",
       "      <th>Attack Type</th>\n",
       "      <th>Financial Loss (in Million $)</th>\n",
       "      <th>Financial Loss</th>\n",
       "      <th>Financial Loss (in Billion $)</th>\n",
       "    </tr>\n",
       "  </thead>\n",
       "  <tbody>\n",
       "    <tr>\n",
       "      <th>0</th>\n",
       "      <td>Man-in-the-Middle</td>\n",
       "      <td>23550.87</td>\n",
       "      <td>2.355087e+10</td>\n",
       "      <td>23.55</td>\n",
       "    </tr>\n",
       "    <tr>\n",
       "      <th>1</th>\n",
       "      <td>Malware</td>\n",
       "      <td>23967.95</td>\n",
       "      <td>2.396795e+10</td>\n",
       "      <td>23.97</td>\n",
       "    </tr>\n",
       "    <tr>\n",
       "      <th>2</th>\n",
       "      <td>Ransomware</td>\n",
       "      <td>24479.32</td>\n",
       "      <td>2.447932e+10</td>\n",
       "      <td>24.48</td>\n",
       "    </tr>\n",
       "    <tr>\n",
       "      <th>3</th>\n",
       "      <td>SQL Injection</td>\n",
       "      <td>25156.56</td>\n",
       "      <td>2.515656e+10</td>\n",
       "      <td>25.16</td>\n",
       "    </tr>\n",
       "    <tr>\n",
       "      <th>4</th>\n",
       "      <td>Phishing</td>\n",
       "      <td>26693.29</td>\n",
       "      <td>2.669329e+10</td>\n",
       "      <td>26.69</td>\n",
       "    </tr>\n",
       "    <tr>\n",
       "      <th>5</th>\n",
       "      <td>DDoS</td>\n",
       "      <td>27630.92</td>\n",
       "      <td>2.763092e+10</td>\n",
       "      <td>27.63</td>\n",
       "    </tr>\n",
       "  </tbody>\n",
       "</table>\n",
       "</div>"
      ],
      "text/plain": [
       "         Attack Type  Financial Loss (in Million $)  Financial Loss  \\\n",
       "0  Man-in-the-Middle                       23550.87    2.355087e+10   \n",
       "1            Malware                       23967.95    2.396795e+10   \n",
       "2         Ransomware                       24479.32    2.447932e+10   \n",
       "3      SQL Injection                       25156.56    2.515656e+10   \n",
       "4           Phishing                       26693.29    2.669329e+10   \n",
       "5               DDoS                       27630.92    2.763092e+10   \n",
       "\n",
       "   Financial Loss (in Billion $)  \n",
       "0                          23.55  \n",
       "1                          23.97  \n",
       "2                          24.48  \n",
       "3                          25.16  \n",
       "4                          26.69  \n",
       "5                          27.63  "
      ]
     },
     "execution_count": 10,
     "metadata": {},
     "output_type": "execute_result"
    }
   ],
   "source": [
    "#DATAFRAME FOR TOTAL FINANCIAL LOSS BY ATTACK TYPE\n",
    "df_attack_type_finloss_total = df.groupby('Attack Type')['Financial Loss (in Million $)'].sum().sort_values(ascending=True).reset_index()\n",
    "df_attack_type_finloss_total['Financial Loss'] = (df_attack_type_finloss_total['Financial Loss (in Million $)']*1e6).round(2)\n",
    "df_attack_type_finloss_total['Financial Loss (in Billion $)'] = (df_attack_type_finloss_total['Financial Loss (in Million $)']/1e3).round(2)\n",
    "df_attack_type_finloss_total"
   ]
  },
  {
   "cell_type": "code",
   "execution_count": 35,
   "id": "9e0b06b0-547b-4b95-a871-64bf119b0f55",
   "metadata": {},
   "outputs": [
    {
     "data": {
      "application/vnd.plotly.v1+json": {
       "config": {
        "plotlyServerURL": "https://plot.ly"
       },
       "data": [
        {
         "hovertemplate": "Financial Loss=%{marker.color}<br>Attack Type=%{y}<br>text=%{text}<extra></extra>",
         "legendgroup": "",
         "marker": {
          "color": {
           "_inputArray": {
            "0": 23550870000,
            "1": 23967950000,
            "2": 24479320000,
            "3": 25156560000,
            "4": 26693290000,
            "5": 27630920000,
            "bdata": "AADAB/fuFUIAAMCSZ1IWQgAAAB9TzBZCAAAAksptF0IAAEAgLdwYQgAAAIW5uxlC",
            "dtype": "f8",
            "shape": "6"
           },
           "bdata": "AADAB/fuFUIAAMCSZ1IWQgAAAB9TzBZCAAAAksptF0IAAEAgLdwYQgAAAIW5uxlC",
           "dtype": "f8"
          },
          "coloraxis": "coloraxis",
          "pattern": {
           "shape": ""
          }
         },
         "name": "",
         "orientation": "h",
         "showlegend": false,
         "text": [
          "23.55B",
          "23.97B",
          "24.48B",
          "25.16B",
          "26.69B",
          "27.63B"
         ],
         "textposition": "auto",
         "type": "bar",
         "x": {
          "_inputArray": {
           "0": 23550870000,
           "1": 23967950000,
           "2": 24479320000,
           "3": 25156560000,
           "4": 26693290000,
           "5": 27630920000,
           "bdata": "AADAB/fuFUIAAMCSZ1IWQgAAAB9TzBZCAAAAksptF0IAAEAgLdwYQgAAAIW5uxlC",
           "dtype": "f8",
           "shape": "6"
          },
          "bdata": "AADAB/fuFUIAAMCSZ1IWQgAAAB9TzBZCAAAAksptF0IAAEAgLdwYQgAAAIW5uxlC",
          "dtype": "f8"
         },
         "xaxis": "x",
         "y": [
          "Man-in-the-Middle",
          "Malware",
          "Ransomware",
          "SQL Injection",
          "Phishing",
          "DDoS"
         ],
         "yaxis": "y"
        }
       ],
       "layout": {
        "barmode": "relative",
        "coloraxis": {
         "colorbar": {
          "title": {
           "text": "Financial Loss"
          }
         },
         "colorscale": [
          [
           0,
           "rgb(247,251,255)"
          ],
          [
           0.125,
           "rgb(222,235,247)"
          ],
          [
           0.25,
           "rgb(198,219,239)"
          ],
          [
           0.375,
           "rgb(158,202,225)"
          ],
          [
           0.5,
           "rgb(107,174,214)"
          ],
          [
           0.625,
           "rgb(66,146,198)"
          ],
          [
           0.75,
           "rgb(33,113,181)"
          ],
          [
           0.875,
           "rgb(8,81,156)"
          ],
          [
           1,
           "rgb(8,48,107)"
          ]
         ],
         "showscale": false
        },
        "font": {
         "color": "white"
        },
        "height": 320,
        "legend": {
         "tracegroupgap": 0
        },
        "paper_bgcolor": "Navy",
        "plot_bgcolor": "Navy",
        "template": {
         "data": {
          "bar": [
           {
            "error_x": {
             "color": "#2a3f5f"
            },
            "error_y": {
             "color": "#2a3f5f"
            },
            "marker": {
             "line": {
              "color": "#E5ECF6",
              "width": 0.5
             },
             "pattern": {
              "fillmode": "overlay",
              "size": 10,
              "solidity": 0.2
             }
            },
            "type": "bar"
           }
          ],
          "barpolar": [
           {
            "marker": {
             "line": {
              "color": "#E5ECF6",
              "width": 0.5
             },
             "pattern": {
              "fillmode": "overlay",
              "size": 10,
              "solidity": 0.2
             }
            },
            "type": "barpolar"
           }
          ],
          "carpet": [
           {
            "aaxis": {
             "endlinecolor": "#2a3f5f",
             "gridcolor": "white",
             "linecolor": "white",
             "minorgridcolor": "white",
             "startlinecolor": "#2a3f5f"
            },
            "baxis": {
             "endlinecolor": "#2a3f5f",
             "gridcolor": "white",
             "linecolor": "white",
             "minorgridcolor": "white",
             "startlinecolor": "#2a3f5f"
            },
            "type": "carpet"
           }
          ],
          "choropleth": [
           {
            "colorbar": {
             "outlinewidth": 0,
             "ticks": ""
            },
            "type": "choropleth"
           }
          ],
          "contour": [
           {
            "colorbar": {
             "outlinewidth": 0,
             "ticks": ""
            },
            "colorscale": [
             [
              0,
              "#0d0887"
             ],
             [
              0.1111111111111111,
              "#46039f"
             ],
             [
              0.2222222222222222,
              "#7201a8"
             ],
             [
              0.3333333333333333,
              "#9c179e"
             ],
             [
              0.4444444444444444,
              "#bd3786"
             ],
             [
              0.5555555555555556,
              "#d8576b"
             ],
             [
              0.6666666666666666,
              "#ed7953"
             ],
             [
              0.7777777777777778,
              "#fb9f3a"
             ],
             [
              0.8888888888888888,
              "#fdca26"
             ],
             [
              1,
              "#f0f921"
             ]
            ],
            "type": "contour"
           }
          ],
          "contourcarpet": [
           {
            "colorbar": {
             "outlinewidth": 0,
             "ticks": ""
            },
            "type": "contourcarpet"
           }
          ],
          "heatmap": [
           {
            "colorbar": {
             "outlinewidth": 0,
             "ticks": ""
            },
            "colorscale": [
             [
              0,
              "#0d0887"
             ],
             [
              0.1111111111111111,
              "#46039f"
             ],
             [
              0.2222222222222222,
              "#7201a8"
             ],
             [
              0.3333333333333333,
              "#9c179e"
             ],
             [
              0.4444444444444444,
              "#bd3786"
             ],
             [
              0.5555555555555556,
              "#d8576b"
             ],
             [
              0.6666666666666666,
              "#ed7953"
             ],
             [
              0.7777777777777778,
              "#fb9f3a"
             ],
             [
              0.8888888888888888,
              "#fdca26"
             ],
             [
              1,
              "#f0f921"
             ]
            ],
            "type": "heatmap"
           }
          ],
          "histogram": [
           {
            "marker": {
             "pattern": {
              "fillmode": "overlay",
              "size": 10,
              "solidity": 0.2
             }
            },
            "type": "histogram"
           }
          ],
          "histogram2d": [
           {
            "colorbar": {
             "outlinewidth": 0,
             "ticks": ""
            },
            "colorscale": [
             [
              0,
              "#0d0887"
             ],
             [
              0.1111111111111111,
              "#46039f"
             ],
             [
              0.2222222222222222,
              "#7201a8"
             ],
             [
              0.3333333333333333,
              "#9c179e"
             ],
             [
              0.4444444444444444,
              "#bd3786"
             ],
             [
              0.5555555555555556,
              "#d8576b"
             ],
             [
              0.6666666666666666,
              "#ed7953"
             ],
             [
              0.7777777777777778,
              "#fb9f3a"
             ],
             [
              0.8888888888888888,
              "#fdca26"
             ],
             [
              1,
              "#f0f921"
             ]
            ],
            "type": "histogram2d"
           }
          ],
          "histogram2dcontour": [
           {
            "colorbar": {
             "outlinewidth": 0,
             "ticks": ""
            },
            "colorscale": [
             [
              0,
              "#0d0887"
             ],
             [
              0.1111111111111111,
              "#46039f"
             ],
             [
              0.2222222222222222,
              "#7201a8"
             ],
             [
              0.3333333333333333,
              "#9c179e"
             ],
             [
              0.4444444444444444,
              "#bd3786"
             ],
             [
              0.5555555555555556,
              "#d8576b"
             ],
             [
              0.6666666666666666,
              "#ed7953"
             ],
             [
              0.7777777777777778,
              "#fb9f3a"
             ],
             [
              0.8888888888888888,
              "#fdca26"
             ],
             [
              1,
              "#f0f921"
             ]
            ],
            "type": "histogram2dcontour"
           }
          ],
          "mesh3d": [
           {
            "colorbar": {
             "outlinewidth": 0,
             "ticks": ""
            },
            "type": "mesh3d"
           }
          ],
          "parcoords": [
           {
            "line": {
             "colorbar": {
              "outlinewidth": 0,
              "ticks": ""
             }
            },
            "type": "parcoords"
           }
          ],
          "pie": [
           {
            "automargin": true,
            "type": "pie"
           }
          ],
          "scatter": [
           {
            "fillpattern": {
             "fillmode": "overlay",
             "size": 10,
             "solidity": 0.2
            },
            "type": "scatter"
           }
          ],
          "scatter3d": [
           {
            "line": {
             "colorbar": {
              "outlinewidth": 0,
              "ticks": ""
             }
            },
            "marker": {
             "colorbar": {
              "outlinewidth": 0,
              "ticks": ""
             }
            },
            "type": "scatter3d"
           }
          ],
          "scattercarpet": [
           {
            "marker": {
             "colorbar": {
              "outlinewidth": 0,
              "ticks": ""
             }
            },
            "type": "scattercarpet"
           }
          ],
          "scattergeo": [
           {
            "marker": {
             "colorbar": {
              "outlinewidth": 0,
              "ticks": ""
             }
            },
            "type": "scattergeo"
           }
          ],
          "scattergl": [
           {
            "marker": {
             "colorbar": {
              "outlinewidth": 0,
              "ticks": ""
             }
            },
            "type": "scattergl"
           }
          ],
          "scattermap": [
           {
            "marker": {
             "colorbar": {
              "outlinewidth": 0,
              "ticks": ""
             }
            },
            "type": "scattermap"
           }
          ],
          "scattermapbox": [
           {
            "marker": {
             "colorbar": {
              "outlinewidth": 0,
              "ticks": ""
             }
            },
            "type": "scattermapbox"
           }
          ],
          "scatterpolar": [
           {
            "marker": {
             "colorbar": {
              "outlinewidth": 0,
              "ticks": ""
             }
            },
            "type": "scatterpolar"
           }
          ],
          "scatterpolargl": [
           {
            "marker": {
             "colorbar": {
              "outlinewidth": 0,
              "ticks": ""
             }
            },
            "type": "scatterpolargl"
           }
          ],
          "scatterternary": [
           {
            "marker": {
             "colorbar": {
              "outlinewidth": 0,
              "ticks": ""
             }
            },
            "type": "scatterternary"
           }
          ],
          "surface": [
           {
            "colorbar": {
             "outlinewidth": 0,
             "ticks": ""
            },
            "colorscale": [
             [
              0,
              "#0d0887"
             ],
             [
              0.1111111111111111,
              "#46039f"
             ],
             [
              0.2222222222222222,
              "#7201a8"
             ],
             [
              0.3333333333333333,
              "#9c179e"
             ],
             [
              0.4444444444444444,
              "#bd3786"
             ],
             [
              0.5555555555555556,
              "#d8576b"
             ],
             [
              0.6666666666666666,
              "#ed7953"
             ],
             [
              0.7777777777777778,
              "#fb9f3a"
             ],
             [
              0.8888888888888888,
              "#fdca26"
             ],
             [
              1,
              "#f0f921"
             ]
            ],
            "type": "surface"
           }
          ],
          "table": [
           {
            "cells": {
             "fill": {
              "color": "#EBF0F8"
             },
             "line": {
              "color": "white"
             }
            },
            "header": {
             "fill": {
              "color": "#C8D4E3"
             },
             "line": {
              "color": "white"
             }
            },
            "type": "table"
           }
          ]
         },
         "layout": {
          "annotationdefaults": {
           "arrowcolor": "#2a3f5f",
           "arrowhead": 0,
           "arrowwidth": 1
          },
          "autotypenumbers": "strict",
          "coloraxis": {
           "colorbar": {
            "outlinewidth": 0,
            "ticks": ""
           }
          },
          "colorscale": {
           "diverging": [
            [
             0,
             "#8e0152"
            ],
            [
             0.1,
             "#c51b7d"
            ],
            [
             0.2,
             "#de77ae"
            ],
            [
             0.3,
             "#f1b6da"
            ],
            [
             0.4,
             "#fde0ef"
            ],
            [
             0.5,
             "#f7f7f7"
            ],
            [
             0.6,
             "#e6f5d0"
            ],
            [
             0.7,
             "#b8e186"
            ],
            [
             0.8,
             "#7fbc41"
            ],
            [
             0.9,
             "#4d9221"
            ],
            [
             1,
             "#276419"
            ]
           ],
           "sequential": [
            [
             0,
             "#0d0887"
            ],
            [
             0.1111111111111111,
             "#46039f"
            ],
            [
             0.2222222222222222,
             "#7201a8"
            ],
            [
             0.3333333333333333,
             "#9c179e"
            ],
            [
             0.4444444444444444,
             "#bd3786"
            ],
            [
             0.5555555555555556,
             "#d8576b"
            ],
            [
             0.6666666666666666,
             "#ed7953"
            ],
            [
             0.7777777777777778,
             "#fb9f3a"
            ],
            [
             0.8888888888888888,
             "#fdca26"
            ],
            [
             1,
             "#f0f921"
            ]
           ],
           "sequentialminus": [
            [
             0,
             "#0d0887"
            ],
            [
             0.1111111111111111,
             "#46039f"
            ],
            [
             0.2222222222222222,
             "#7201a8"
            ],
            [
             0.3333333333333333,
             "#9c179e"
            ],
            [
             0.4444444444444444,
             "#bd3786"
            ],
            [
             0.5555555555555556,
             "#d8576b"
            ],
            [
             0.6666666666666666,
             "#ed7953"
            ],
            [
             0.7777777777777778,
             "#fb9f3a"
            ],
            [
             0.8888888888888888,
             "#fdca26"
            ],
            [
             1,
             "#f0f921"
            ]
           ]
          },
          "colorway": [
           "#636efa",
           "#EF553B",
           "#00cc96",
           "#ab63fa",
           "#FFA15A",
           "#19d3f3",
           "#FF6692",
           "#B6E880",
           "#FF97FF",
           "#FECB52"
          ],
          "font": {
           "color": "#2a3f5f"
          },
          "geo": {
           "bgcolor": "white",
           "lakecolor": "white",
           "landcolor": "#E5ECF6",
           "showlakes": true,
           "showland": true,
           "subunitcolor": "white"
          },
          "hoverlabel": {
           "align": "left"
          },
          "hovermode": "closest",
          "mapbox": {
           "style": "light"
          },
          "paper_bgcolor": "white",
          "plot_bgcolor": "#E5ECF6",
          "polar": {
           "angularaxis": {
            "gridcolor": "white",
            "linecolor": "white",
            "ticks": ""
           },
           "bgcolor": "#E5ECF6",
           "radialaxis": {
            "gridcolor": "white",
            "linecolor": "white",
            "ticks": ""
           }
          },
          "scene": {
           "xaxis": {
            "backgroundcolor": "#E5ECF6",
            "gridcolor": "white",
            "gridwidth": 2,
            "linecolor": "white",
            "showbackground": true,
            "ticks": "",
            "zerolinecolor": "white"
           },
           "yaxis": {
            "backgroundcolor": "#E5ECF6",
            "gridcolor": "white",
            "gridwidth": 2,
            "linecolor": "white",
            "showbackground": true,
            "ticks": "",
            "zerolinecolor": "white"
           },
           "zaxis": {
            "backgroundcolor": "#E5ECF6",
            "gridcolor": "white",
            "gridwidth": 2,
            "linecolor": "white",
            "showbackground": true,
            "ticks": "",
            "zerolinecolor": "white"
           }
          },
          "shapedefaults": {
           "line": {
            "color": "#2a3f5f"
           }
          },
          "ternary": {
           "aaxis": {
            "gridcolor": "white",
            "linecolor": "white",
            "ticks": ""
           },
           "baxis": {
            "gridcolor": "white",
            "linecolor": "white",
            "ticks": ""
           },
           "bgcolor": "#E5ECF6",
           "caxis": {
            "gridcolor": "white",
            "linecolor": "white",
            "ticks": ""
           }
          },
          "title": {
           "x": 0.05
          },
          "xaxis": {
           "automargin": true,
           "gridcolor": "white",
           "linecolor": "white",
           "ticks": "",
           "title": {
            "standoff": 15
           },
           "zerolinecolor": "white",
           "zerolinewidth": 2
          },
          "yaxis": {
           "automargin": true,
           "gridcolor": "white",
           "linecolor": "white",
           "ticks": "",
           "title": {
            "standoff": 15
           },
           "zerolinecolor": "white",
           "zerolinewidth": 2
          }
         }
        },
        "title": {
         "text": "<span style='color:white;'>Total Financial Loss by Cyberattack Type (2015-2024, in Billion $)</span>"
        },
        "width": 620,
        "xaxis": {
         "anchor": "y",
         "autorange": true,
         "domain": [
          0,
          1
         ],
         "range": [
          0,
          29085178947.36842
         ],
         "showgrid": false,
         "title": {
          "text": "Financial Loss"
         },
         "type": "linear"
        },
        "yaxis": {
         "anchor": "x",
         "autorange": true,
         "domain": [
          0,
          1
         ],
         "range": [
          -0.5,
          5.5
         ],
         "showgrid": false,
         "title": {
          "text": "Attack Type"
         },
         "type": "category"
        }
       }
      },
      "image/png": "[encoded data removed]"
     },
     "metadata": {},
     "output_type": "display_data"
    }
   ],
   "source": [
    "# BAR GRAPH OF TOTAL FINANCIAL LOSS BY ATTACK TYPE\n",
    "fig_finloss_attacktype = px.bar(df_attack_type_finloss_total, y='Attack Type', x='Financial Loss', \n",
    "                                    title= \"<span style='color:white;'>Total Financial Loss by Cyberattack Type (2015-2024, in Billion $)</span>\",\n",
    "                                    color='Financial Loss', color_continuous_scale='Blues', \n",
    "                                    text=df_attack_type_finloss_total['Financial Loss (in Billion $)'].apply(lambda x: f\"{x}B\"),\n",
    "                                    width=620, height=320)\n",
    "fig_finloss_attacktype.update_layout(plot_bgcolor='Navy', paper_bgcolor='Navy',\n",
    "                                       yaxis=dict(showgrid=False),\n",
    "                                       xaxis=dict(showgrid=False), font=dict(color='white'),\n",
    "                                    coloraxis_showscale=False)\n",
    "\n",
    "fig_finloss_attacktype.show()\n",
    "\n",
    "fig_finloss_attacktype.write_image('fig_finloss_attacktype.png', width=620, height=320)"
   ]
  },
  {
   "cell_type": "code",
   "execution_count": 12,
   "id": "ed51bc5e-233e-449a-8dc3-fa066b8ad875",
   "metadata": {},
   "outputs": [
    {
     "data": {
      "text/html": [
       "<div>\n",
       "<style scoped>\n",
       "    .dataframe tbody tr th:only-of-type {\n",
       "        vertical-align: middle;\n",
       "    }\n",
       "\n",
       "    .dataframe tbody tr th {\n",
       "        vertical-align: top;\n",
       "    }\n",
       "\n",
       "    .dataframe thead th {\n",
       "        text-align: right;\n",
       "    }\n",
       "</style>\n",
       "<table border=\"1\" class=\"dataframe\">\n",
       "  <thead>\n",
       "    <tr style=\"text-align: right;\">\n",
       "      <th></th>\n",
       "      <th>Target Industry</th>\n",
       "      <th>Year</th>\n",
       "      <th>Financial Loss (in Million $)</th>\n",
       "      <th>Financial Loss</th>\n",
       "      <th>Financial Loss (in Billion $)</th>\n",
       "    </tr>\n",
       "  </thead>\n",
       "  <tbody>\n",
       "    <tr>\n",
       "      <th>0</th>\n",
       "      <td>Banking</td>\n",
       "      <td>2015</td>\n",
       "      <td>2189.36</td>\n",
       "      <td>2.189360e+09</td>\n",
       "      <td>2.19</td>\n",
       "    </tr>\n",
       "    <tr>\n",
       "      <th>1</th>\n",
       "      <td>Banking</td>\n",
       "      <td>2016</td>\n",
       "      <td>1871.24</td>\n",
       "      <td>1.871240e+09</td>\n",
       "      <td>1.87</td>\n",
       "    </tr>\n",
       "    <tr>\n",
       "      <th>2</th>\n",
       "      <td>Banking</td>\n",
       "      <td>2017</td>\n",
       "      <td>2220.96</td>\n",
       "      <td>2.220960e+09</td>\n",
       "      <td>2.22</td>\n",
       "    </tr>\n",
       "    <tr>\n",
       "      <th>3</th>\n",
       "      <td>Banking</td>\n",
       "      <td>2018</td>\n",
       "      <td>2468.82</td>\n",
       "      <td>2.468820e+09</td>\n",
       "      <td>2.47</td>\n",
       "    </tr>\n",
       "    <tr>\n",
       "      <th>4</th>\n",
       "      <td>Banking</td>\n",
       "      <td>2019</td>\n",
       "      <td>2117.61</td>\n",
       "      <td>2.117610e+09</td>\n",
       "      <td>2.12</td>\n",
       "    </tr>\n",
       "    <tr>\n",
       "      <th>...</th>\n",
       "      <td>...</td>\n",
       "      <td>...</td>\n",
       "      <td>...</td>\n",
       "      <td>...</td>\n",
       "      <td>...</td>\n",
       "    </tr>\n",
       "    <tr>\n",
       "      <th>65</th>\n",
       "      <td>Telecommunications</td>\n",
       "      <td>2020</td>\n",
       "      <td>1970.72</td>\n",
       "      <td>1.970720e+09</td>\n",
       "      <td>1.97</td>\n",
       "    </tr>\n",
       "    <tr>\n",
       "      <th>66</th>\n",
       "      <td>Telecommunications</td>\n",
       "      <td>2021</td>\n",
       "      <td>2726.83</td>\n",
       "      <td>2.726830e+09</td>\n",
       "      <td>2.73</td>\n",
       "    </tr>\n",
       "    <tr>\n",
       "      <th>67</th>\n",
       "      <td>Telecommunications</td>\n",
       "      <td>2022</td>\n",
       "      <td>2385.68</td>\n",
       "      <td>2.385680e+09</td>\n",
       "      <td>2.39</td>\n",
       "    </tr>\n",
       "    <tr>\n",
       "      <th>68</th>\n",
       "      <td>Telecommunications</td>\n",
       "      <td>2023</td>\n",
       "      <td>2189.73</td>\n",
       "      <td>2.189730e+09</td>\n",
       "      <td>2.19</td>\n",
       "    </tr>\n",
       "    <tr>\n",
       "      <th>69</th>\n",
       "      <td>Telecommunications</td>\n",
       "      <td>2024</td>\n",
       "      <td>1948.77</td>\n",
       "      <td>1.948770e+09</td>\n",
       "      <td>1.95</td>\n",
       "    </tr>\n",
       "  </tbody>\n",
       "</table>\n",
       "<p>70 rows × 5 columns</p>\n",
       "</div>"
      ],
      "text/plain": [
       "       Target Industry  Year  Financial Loss (in Million $)  Financial Loss  \\\n",
       "0              Banking  2015                        2189.36    2.189360e+09   \n",
       "1              Banking  2016                        1871.24    1.871240e+09   \n",
       "2              Banking  2017                        2220.96    2.220960e+09   \n",
       "3              Banking  2018                        2468.82    2.468820e+09   \n",
       "4              Banking  2019                        2117.61    2.117610e+09   \n",
       "..                 ...   ...                            ...             ...   \n",
       "65  Telecommunications  2020                        1970.72    1.970720e+09   \n",
       "66  Telecommunications  2021                        2726.83    2.726830e+09   \n",
       "67  Telecommunications  2022                        2385.68    2.385680e+09   \n",
       "68  Telecommunications  2023                        2189.73    2.189730e+09   \n",
       "69  Telecommunications  2024                        1948.77    1.948770e+09   \n",
       "\n",
       "    Financial Loss (in Billion $)  \n",
       "0                            2.19  \n",
       "1                            1.87  \n",
       "2                            2.22  \n",
       "3                            2.47  \n",
       "4                            2.12  \n",
       "..                            ...  \n",
       "65                           1.97  \n",
       "66                           2.73  \n",
       "67                           2.39  \n",
       "68                           2.19  \n",
       "69                           1.95  \n",
       "\n",
       "[70 rows x 5 columns]"
      ]
     },
     "execution_count": 12,
     "metadata": {},
     "output_type": "execute_result"
    }
   ],
   "source": [
    "#DATAFRAME OF FINANCIAL LOSS BY INDUSTRY\n",
    "df_target_industry_finloss_total = df.groupby(['Target Industry','Year'])['Financial Loss (in Million $)'].sum().reset_index()\n",
    "df_target_industry_finloss_total['Financial Loss'] = (df_target_industry_finloss_total['Financial Loss (in Million $)']*1e6).round(2)\n",
    "df_target_industry_finloss_total['Financial Loss (in Billion $)'] = (df_target_industry_finloss_total['Financial Loss (in Million $)']/1e3).round(2)\n",
    "df_target_industry_finloss_total"
   ]
  },
  {
   "cell_type": "code",
   "execution_count": 24,
   "id": "7fbb1fea-af41-45f1-8d75-37a767e79960",
   "metadata": {},
   "outputs": [
    {
     "data": {
      "application/vnd.plotly.v1+json": {
       "config": {
        "plotlyServerURL": "https://plot.ly"
       },
       "data": [
        {
         "fillpattern": {
          "shape": ""
         },
         "hovertemplate": "Target Industry=Banking<br>Year=%{x}<br>Financial Loss=%{y}<extra></extra>",
         "legendgroup": "Banking",
         "line": {
          "color": "#636efa"
         },
         "marker": {
          "symbol": "circle"
         },
         "mode": "lines",
         "name": "Banking",
         "orientation": "v",
         "showlegend": true,
         "stackgroup": "1",
         "type": "scatter",
         "x": [
          "2015",
          "2016",
          "2017",
          "2018",
          "2019",
          "2020",
          "2021",
          "2022",
          "2023",
          "2024"
         ],
         "xaxis": "x",
         "y": {
          "_inputArray": {
           "0": 2189360000,
           "1": 1871240000,
           "2": 2220960000,
           "3": 2468820000,
           "4": 2117610000,
           "5": 2884610000,
           "6": 2772750000,
           "7": 2087700000,
           "8": 2427420000,
           "9": 1731920000,
           "bdata": "AAAAcN9P4EEAAADQNuLbQQAAACAljOBBAAAAhOZk4kEAAACECo7fQQAAAPr0feVBAAAA1pmo5EEAAACI8RvfQQAAAKzvFeJBAAAAIMDO2UE=",
           "dtype": "f8",
           "shape": "10"
          },
          "bdata": "AAAAcN9P4EEAAADQNuLbQQAAACAljOBBAAAAhOZk4kEAAACECo7fQQAAAPr0feVBAAAA1pmo5EEAAACI8RvfQQAAAKzvFeJBAAAAIMDO2UE=",
          "dtype": "f8"
         },
         "yaxis": "y"
        },
        {
         "fillpattern": {
          "shape": ""
         },
         "hovertemplate": "Target Industry=Education<br>Year=%{x}<br>Financial Loss=%{y}<extra></extra>",
         "legendgroup": "Education",
         "line": {
          "color": "#EF553B"
         },
         "marker": {
          "symbol": "circle"
         },
         "mode": "lines",
         "name": "Education",
         "orientation": "v",
         "showlegend": true,
         "stackgroup": "1",
         "type": "scatter",
         "x": [
          "2015",
          "2016",
          "2017",
          "2018",
          "2019",
          "2020",
          "2021",
          "2022",
          "2023",
          "2024"
         ],
         "xaxis": "x",
         "y": {
          "_inputArray": {
           "0": 1498940000,
           "1": 1947510000,
           "2": 2129320000,
           "3": 2629560000,
           "4": 1643330000,
           "5": 2110660000,
           "6": 1728110000,
           "7": 2432840000,
           "8": 1918210000,
           "9": 2032950000,
           "bdata": "AAAAmABW1kEAAAA8KQXdQQAAABC2ut9BAAAA2HyX40EAAAB0znzYQQAAAGiHc99BAAAAbDfA2UEAAAAoRiDiQQAAAPRjldxBAAAAvBZL3kE=",
           "dtype": "f8",
           "shape": "10"
          },
          "bdata": "AAAAmABW1kEAAAA8KQXdQQAAABC2ut9BAAAA2HyX40EAAAB0znzYQQAAAGiHc99BAAAAbDfA2UEAAAAoRiDiQQAAAPRjldxBAAAAvBZL3kE=",
          "dtype": "f8"
         },
         "yaxis": "y"
        },
        {
         "fillpattern": {
          "shape": ""
         },
         "hovertemplate": "Target Industry=Government<br>Year=%{x}<br>Financial Loss=%{y}<extra></extra>",
         "legendgroup": "Government",
         "line": {
          "color": "#00cc96"
         },
         "marker": {
          "symbol": "circle"
         },
         "mode": "lines",
         "name": "Government",
         "orientation": "v",
         "showlegend": true,
         "stackgroup": "1",
         "type": "scatter",
         "x": [
          "2015",
          "2016",
          "2017",
          "2018",
          "2019",
          "2020",
          "2021",
          "2022",
          "2023",
          "2024"
         ],
         "xaxis": "x",
         "y": {
          "_inputArray": {
           "0": 1779600000,
           "1": 1976980000,
           "2": 2747860000,
           "3": 1846070000,
           "4": 2193450000,
           "5": 1879810000,
           "6": 1968350000,
           "7": 2034570000,
           "8": 2171170000,
           "9": 2607470000,
           "bdata": "AAAAoKKE2kEAAACIlHXdQQAAAIQgeeRBAAAAvDKC20EAAACCrFfgQQAAAPTnAtxBAAAAzKhU3UEAAADERFHeQQAAAJotLeBBAAAAtlpt40E=",
           "dtype": "f8",
           "shape": "10"
          },
          "bdata": "AAAAoKKE2kEAAACIlHXdQQAAAIQgeeRBAAAAvDKC20EAAACCrFfgQQAAAPTnAtxBAAAAzKhU3UEAAADERFHeQQAAAJotLeBBAAAAtlpt40E=",
          "dtype": "f8"
         },
         "yaxis": "y"
        },
        {
         "fillpattern": {
          "shape": ""
         },
         "hovertemplate": "Target Industry=Healthcare<br>Year=%{x}<br>Financial Loss=%{y}<extra></extra>",
         "legendgroup": "Healthcare",
         "line": {
          "color": "#ab63fa"
         },
         "marker": {
          "symbol": "circle"
         },
         "mode": "lines",
         "name": "Healthcare",
         "orientation": "v",
         "showlegend": true,
         "stackgroup": "1",
         "type": "scatter",
         "x": [
          "2015",
          "2016",
          "2017",
          "2018",
          "2019",
          "2020",
          "2021",
          "2022",
          "2023",
          "2024"
         ],
         "xaxis": "x",
         "y": {
          "_inputArray": {
           "0": 1638730000,
           "1": 2227470000,
           "2": 2702010000,
           "3": 2244920000,
           "4": 1719820000,
           "5": 2048080000,
           "6": 2107480000,
           "7": 2064370000,
           "8": 2073450000,
           "9": 2214960000,
           "bdata": "AAAAREJr2EEAAADWj5jgQQAAANKsIeRBAAAAWNi54EEAAAC4l6DZQQAAACDOhN5BAAAA8GVn30EAAABU8sLeQQAAAISV5d5BAAAAcLOA4EE=",
           "dtype": "f8",
           "shape": "10"
          },
          "bdata": "AAAAREJr2EEAAADWj5jgQQAAANKsIeRBAAAAWNi54EEAAAC4l6DZQQAAACDOhN5BAAAA8GVn30EAAABU8sLeQQAAAISV5d5BAAAAcLOA4EE=",
          "dtype": "f8"
         },
         "yaxis": "y"
        },
        {
         "fillpattern": {
          "shape": ""
         },
         "hovertemplate": "Target Industry=IT<br>Year=%{x}<br>Financial Loss=%{y}<extra></extra>",
         "legendgroup": "IT",
         "line": {
          "color": "#FFA15A"
         },
         "marker": {
          "symbol": "circle"
         },
         "mode": "lines",
         "name": "IT",
         "orientation": "v",
         "showlegend": true,
         "stackgroup": "1",
         "type": "scatter",
         "x": [
          "2015",
          "2016",
          "2017",
          "2018",
          "2019",
          "2020",
          "2021",
          "2022",
          "2023",
          "2024"
         ],
         "xaxis": "x",
         "y": {
          "_inputArray": {
           "0": 3000210000,
           "1": 2073900000,
           "2": 2551060000,
           "3": 1940380000,
           "4": 2089180000,
           "5": 2735030000,
           "6": 2440710000,
           "7": 2842010000,
           "8": 2635800000,
           "9": 2501550000,
           "bdata": "AAAASnJa5kEAAAD4TOfeQQAAAMTCAeNBAAAAWPbp3EEAAADYliHfQQAAAN6nYORBAAAA7kgv4kEAAAAytCzlQQAAALhjo+NBAAAA9lOj4kE=",
           "dtype": "f8",
           "shape": "10"
          },
          "bdata": "AAAASnJa5kEAAAD4TOfeQQAAAMTCAeNBAAAAWPbp3EEAAADYliHfQQAAAN6nYORBAAAA7kgv4kEAAAAytCzlQQAAALhjo+NBAAAA9lOj4kE=",
          "dtype": "f8"
         },
         "yaxis": "y"
        },
        {
         "fillpattern": {
          "shape": ""
         },
         "hovertemplate": "Target Industry=Retail<br>Year=%{x}<br>Financial Loss=%{y}<extra></extra>",
         "legendgroup": "Retail",
         "line": {
          "color": "#19d3f3"
         },
         "marker": {
          "symbol": "circle"
         },
         "mode": "lines",
         "name": "Retail",
         "orientation": "v",
         "showlegend": true,
         "stackgroup": "1",
         "type": "scatter",
         "x": [
          "2015",
          "2016",
          "2017",
          "2018",
          "2019",
          "2020",
          "2021",
          "2022",
          "2023",
          "2024"
         ],
         "xaxis": "x",
         "y": {
          "_inputArray": {
           "0": 2558150000,
           "1": 1725920000,
           "2": 2278500000,
           "3": 2095990000,
           "4": 1230110000,
           "5": 2139040000,
           "6": 2129180000,
           "7": 2023690000,
           "8": 2542300000,
           "9": 2396670000,
           "bdata": "AAAArkgP40EAAADA3LfZQQAAANTk+eBBAAAAPJE730EAAABMf1TSQQAAAEDK399BAAAAWC2630EAAADEwyfeQQAAAGwN8eJBAAAABknb4UE=",
           "dtype": "f8",
           "shape": "10"
          },
          "bdata": "AAAArkgP40EAAADA3LfZQQAAANTk+eBBAAAAPJE730EAAABMf1TSQQAAAEDK399BAAAAWC2630EAAADEwyfeQQAAAGwN8eJBAAAABknb4UE=",
          "dtype": "f8"
         },
         "yaxis": "y"
        },
        {
         "fillpattern": {
          "shape": ""
         },
         "hovertemplate": "Target Industry=Telecommunications<br>Year=%{x}<br>Financial Loss=%{y}<extra></extra>",
         "legendgroup": "Telecommunications",
         "line": {
          "color": "#FF6692"
         },
         "marker": {
          "symbol": "circle"
         },
         "mode": "lines",
         "name": "Telecommunications",
         "orientation": "v",
         "showlegend": true,
         "stackgroup": "1",
         "type": "scatter",
         "x": [
          "2015",
          "2016",
          "2017",
          "2018",
          "2019",
          "2020",
          "2021",
          "2022",
          "2023",
          "2024"
         ],
         "xaxis": "x",
         "y": {
          "_inputArray": {
           "0": 1845220000,
           "1": 2124240000,
           "2": 1631970000,
           "3": 1494740000,
           "4": 2141190000,
           "5": 1970720000,
           "6": 2726830000,
           "7": 2385680000,
           "8": 2189730000,
           "9": 1948770000,
           "bdata": "AAAAqPR+20EAAAAgVaffQQAAALR4UdhBAAAACPtF1kEAAADc/effQQAAAECzXd1BAAAA9gNR5EEAAADQUsbhQQAAABqUUOBBAAAAtPcJ3UE=",
           "dtype": "f8",
           "shape": "10"
          },
          "bdata": "AAAAqPR+20EAAAAgVaffQQAAALR4UdhBAAAACPtF1kEAAADc/effQQAAAECzXd1BAAAA9gNR5EEAAADQUsbhQQAAABqUUOBBAAAAtPcJ3UE=",
          "dtype": "f8"
         },
         "yaxis": "y"
        }
       ],
       "layout": {
        "coloraxis": {
         "showscale": false
        },
        "font": {
         "color": "white"
        },
        "height": 350,
        "legend": {
         "title": {
          "text": "Target Industry"
         },
         "tracegroupgap": 0
        },
        "paper_bgcolor": "navy",
        "plot_bgcolor": "navy",
        "template": {
         "data": {
          "bar": [
           {
            "error_x": {
             "color": "#2a3f5f"
            },
            "error_y": {
             "color": "#2a3f5f"
            },
            "marker": {
             "line": {
              "color": "#E5ECF6",
              "width": 0.5
             },
             "pattern": {
              "fillmode": "overlay",
              "size": 10,
              "solidity": 0.2
             }
            },
            "type": "bar"
           }
          ],
          "barpolar": [
           {
            "marker": {
             "line": {
              "color": "#E5ECF6",
              "width": 0.5
             },
             "pattern": {
              "fillmode": "overlay",
              "size": 10,
              "solidity": 0.2
             }
            },
            "type": "barpolar"
           }
          ],
          "carpet": [
           {
            "aaxis": {
             "endlinecolor": "#2a3f5f",
             "gridcolor": "white",
             "linecolor": "white",
             "minorgridcolor": "white",
             "startlinecolor": "#2a3f5f"
            },
            "baxis": {
             "endlinecolor": "#2a3f5f",
             "gridcolor": "white",
             "linecolor": "white",
             "minorgridcolor": "white",
             "startlinecolor": "#2a3f5f"
            },
            "type": "carpet"
           }
          ],
          "choropleth": [
           {
            "colorbar": {
             "outlinewidth": 0,
             "ticks": ""
            },
            "type": "choropleth"
           }
          ],
          "contour": [
           {
            "colorbar": {
             "outlinewidth": 0,
             "ticks": ""
            },
            "colorscale": [
             [
              0,
              "#0d0887"
             ],
             [
              0.1111111111111111,
              "#46039f"
             ],
             [
              0.2222222222222222,
              "#7201a8"
             ],
             [
              0.3333333333333333,
              "#9c179e"
             ],
             [
              0.4444444444444444,
              "#bd3786"
             ],
             [
              0.5555555555555556,
              "#d8576b"
             ],
             [
              0.6666666666666666,
              "#ed7953"
             ],
             [
              0.7777777777777778,
              "#fb9f3a"
             ],
             [
              0.8888888888888888,
              "#fdca26"
             ],
             [
              1,
              "#f0f921"
             ]
            ],
            "type": "contour"
           }
          ],
          "contourcarpet": [
           {
            "colorbar": {
             "outlinewidth": 0,
             "ticks": ""
            },
            "type": "contourcarpet"
           }
          ],
          "heatmap": [
           {
            "colorbar": {
             "outlinewidth": 0,
             "ticks": ""
            },
            "colorscale": [
             [
              0,
              "#0d0887"
             ],
             [
              0.1111111111111111,
              "#46039f"
             ],
             [
              0.2222222222222222,
              "#7201a8"
             ],
             [
              0.3333333333333333,
              "#9c179e"
             ],
             [
              0.4444444444444444,
              "#bd3786"
             ],
             [
              0.5555555555555556,
              "#d8576b"
             ],
             [
              0.6666666666666666,
              "#ed7953"
             ],
             [
              0.7777777777777778,
              "#fb9f3a"
             ],
             [
              0.8888888888888888,
              "#fdca26"
             ],
             [
              1,
              "#f0f921"
             ]
            ],
            "type": "heatmap"
           }
          ],
          "histogram": [
           {
            "marker": {
             "pattern": {
              "fillmode": "overlay",
              "size": 10,
              "solidity": 0.2
             }
            },
            "type": "histogram"
           }
          ],
          "histogram2d": [
           {
            "colorbar": {
             "outlinewidth": 0,
             "ticks": ""
            },
            "colorscale": [
             [
              0,
              "#0d0887"
             ],
             [
              0.1111111111111111,
              "#46039f"
             ],
             [
              0.2222222222222222,
              "#7201a8"
             ],
             [
              0.3333333333333333,
              "#9c179e"
             ],
             [
              0.4444444444444444,
              "#bd3786"
             ],
             [
              0.5555555555555556,
              "#d8576b"
             ],
             [
              0.6666666666666666,
              "#ed7953"
             ],
             [
              0.7777777777777778,
              "#fb9f3a"
             ],
             [
              0.8888888888888888,
              "#fdca26"
             ],
             [
              1,
              "#f0f921"
             ]
            ],
            "type": "histogram2d"
           }
          ],
          "histogram2dcontour": [
           {
            "colorbar": {
             "outlinewidth": 0,
             "ticks": ""
            },
            "colorscale": [
             [
              0,
              "#0d0887"
             ],
             [
              0.1111111111111111,
              "#46039f"
             ],
             [
              0.2222222222222222,
              "#7201a8"
             ],
             [
              0.3333333333333333,
              "#9c179e"
             ],
             [
              0.4444444444444444,
              "#bd3786"
             ],
             [
              0.5555555555555556,
              "#d8576b"
             ],
             [
              0.6666666666666666,
              "#ed7953"
             ],
             [
              0.7777777777777778,
              "#fb9f3a"
             ],
             [
              0.8888888888888888,
              "#fdca26"
             ],
             [
              1,
              "#f0f921"
             ]
            ],
            "type": "histogram2dcontour"
           }
          ],
          "mesh3d": [
           {
            "colorbar": {
             "outlinewidth": 0,
             "ticks": ""
            },
            "type": "mesh3d"
           }
          ],
          "parcoords": [
           {
            "line": {
             "colorbar": {
              "outlinewidth": 0,
              "ticks": ""
             }
            },
            "type": "parcoords"
           }
          ],
          "pie": [
           {
            "automargin": true,
            "type": "pie"
           }
          ],
          "scatter": [
           {
            "fillpattern": {
             "fillmode": "overlay",
             "size": 10,
             "solidity": 0.2
            },
            "type": "scatter"
           }
          ],
          "scatter3d": [
           {
            "line": {
             "colorbar": {
              "outlinewidth": 0,
              "ticks": ""
             }
            },
            "marker": {
             "colorbar": {
              "outlinewidth": 0,
              "ticks": ""
             }
            },
            "type": "scatter3d"
           }
          ],
          "scattercarpet": [
           {
            "marker": {
             "colorbar": {
              "outlinewidth": 0,
              "ticks": ""
             }
            },
            "type": "scattercarpet"
           }
          ],
          "scattergeo": [
           {
            "marker": {
             "colorbar": {
              "outlinewidth": 0,
              "ticks": ""
             }
            },
            "type": "scattergeo"
           }
          ],
          "scattergl": [
           {
            "marker": {
             "colorbar": {
              "outlinewidth": 0,
              "ticks": ""
             }
            },
            "type": "scattergl"
           }
          ],
          "scattermap": [
           {
            "marker": {
             "colorbar": {
              "outlinewidth": 0,
              "ticks": ""
             }
            },
            "type": "scattermap"
           }
          ],
          "scattermapbox": [
           {
            "marker": {
             "colorbar": {
              "outlinewidth": 0,
              "ticks": ""
             }
            },
            "type": "scattermapbox"
           }
          ],
          "scatterpolar": [
           {
            "marker": {
             "colorbar": {
              "outlinewidth": 0,
              "ticks": ""
             }
            },
            "type": "scatterpolar"
           }
          ],
          "scatterpolargl": [
           {
            "marker": {
             "colorbar": {
              "outlinewidth": 0,
              "ticks": ""
             }
            },
            "type": "scatterpolargl"
           }
          ],
          "scatterternary": [
           {
            "marker": {
             "colorbar": {
              "outlinewidth": 0,
              "ticks": ""
             }
            },
            "type": "scatterternary"
           }
          ],
          "surface": [
           {
            "colorbar": {
             "outlinewidth": 0,
             "ticks": ""
            },
            "colorscale": [
             [
              0,
              "#0d0887"
             ],
             [
              0.1111111111111111,
              "#46039f"
             ],
             [
              0.2222222222222222,
              "#7201a8"
             ],
             [
              0.3333333333333333,
              "#9c179e"
             ],
             [
              0.4444444444444444,
              "#bd3786"
             ],
             [
              0.5555555555555556,
              "#d8576b"
             ],
             [
              0.6666666666666666,
              "#ed7953"
             ],
             [
              0.7777777777777778,
              "#fb9f3a"
             ],
             [
              0.8888888888888888,
              "#fdca26"
             ],
             [
              1,
              "#f0f921"
             ]
            ],
            "type": "surface"
           }
          ],
          "table": [
           {
            "cells": {
             "fill": {
              "color": "#EBF0F8"
             },
             "line": {
              "color": "white"
             }
            },
            "header": {
             "fill": {
              "color": "#C8D4E3"
             },
             "line": {
              "color": "white"
             }
            },
            "type": "table"
           }
          ]
         },
         "layout": {
          "annotationdefaults": {
           "arrowcolor": "#2a3f5f",
           "arrowhead": 0,
           "arrowwidth": 1
          },
          "autotypenumbers": "strict",
          "coloraxis": {
           "colorbar": {
            "outlinewidth": 0,
            "ticks": ""
           }
          },
          "colorscale": {
           "diverging": [
            [
             0,
             "#8e0152"
            ],
            [
             0.1,
             "#c51b7d"
            ],
            [
             0.2,
             "#de77ae"
            ],
            [
             0.3,
             "#f1b6da"
            ],
            [
             0.4,
             "#fde0ef"
            ],
            [
             0.5,
             "#f7f7f7"
            ],
            [
             0.6,
             "#e6f5d0"
            ],
            [
             0.7,
             "#b8e186"
            ],
            [
             0.8,
             "#7fbc41"
            ],
            [
             0.9,
             "#4d9221"
            ],
            [
             1,
             "#276419"
            ]
           ],
           "sequential": [
            [
             0,
             "#0d0887"
            ],
            [
             0.1111111111111111,
             "#46039f"
            ],
            [
             0.2222222222222222,
             "#7201a8"
            ],
            [
             0.3333333333333333,
             "#9c179e"
            ],
            [
             0.4444444444444444,
             "#bd3786"
            ],
            [
             0.5555555555555556,
             "#d8576b"
            ],
            [
             0.6666666666666666,
             "#ed7953"
            ],
            [
             0.7777777777777778,
             "#fb9f3a"
            ],
            [
             0.8888888888888888,
             "#fdca26"
            ],
            [
             1,
             "#f0f921"
            ]
           ],
           "sequentialminus": [
            [
             0,
             "#0d0887"
            ],
            [
             0.1111111111111111,
             "#46039f"
            ],
            [
             0.2222222222222222,
             "#7201a8"
            ],
            [
             0.3333333333333333,
             "#9c179e"
            ],
            [
             0.4444444444444444,
             "#bd3786"
            ],
            [
             0.5555555555555556,
             "#d8576b"
            ],
            [
             0.6666666666666666,
             "#ed7953"
            ],
            [
             0.7777777777777778,
             "#fb9f3a"
            ],
            [
             0.8888888888888888,
             "#fdca26"
            ],
            [
             1,
             "#f0f921"
            ]
           ]
          },
          "colorway": [
           "#636efa",
           "#EF553B",
           "#00cc96",
           "#ab63fa",
           "#FFA15A",
           "#19d3f3",
           "#FF6692",
           "#B6E880",
           "#FF97FF",
           "#FECB52"
          ],
          "font": {
           "color": "#2a3f5f"
          },
          "geo": {
           "bgcolor": "white",
           "lakecolor": "white",
           "landcolor": "#E5ECF6",
           "showlakes": true,
           "showland": true,
           "subunitcolor": "white"
          },
          "hoverlabel": {
           "align": "left"
          },
          "hovermode": "closest",
          "mapbox": {
           "style": "light"
          },
          "paper_bgcolor": "white",
          "plot_bgcolor": "#E5ECF6",
          "polar": {
           "angularaxis": {
            "gridcolor": "white",
            "linecolor": "white",
            "ticks": ""
           },
           "bgcolor": "#E5ECF6",
           "radialaxis": {
            "gridcolor": "white",
            "linecolor": "white",
            "ticks": ""
           }
          },
          "scene": {
           "xaxis": {
            "backgroundcolor": "#E5ECF6",
            "gridcolor": "white",
            "gridwidth": 2,
            "linecolor": "white",
            "showbackground": true,
            "ticks": "",
            "zerolinecolor": "white"
           },
           "yaxis": {
            "backgroundcolor": "#E5ECF6",
            "gridcolor": "white",
            "gridwidth": 2,
            "linecolor": "white",
            "showbackground": true,
            "ticks": "",
            "zerolinecolor": "white"
           },
           "zaxis": {
            "backgroundcolor": "#E5ECF6",
            "gridcolor": "white",
            "gridwidth": 2,
            "linecolor": "white",
            "showbackground": true,
            "ticks": "",
            "zerolinecolor": "white"
           }
          },
          "shapedefaults": {
           "line": {
            "color": "#2a3f5f"
           }
          },
          "ternary": {
           "aaxis": {
            "gridcolor": "white",
            "linecolor": "white",
            "ticks": ""
           },
           "baxis": {
            "gridcolor": "white",
            "linecolor": "white",
            "ticks": ""
           },
           "bgcolor": "#E5ECF6",
           "caxis": {
            "gridcolor": "white",
            "linecolor": "white",
            "ticks": ""
           }
          },
          "title": {
           "x": 0.05
          },
          "xaxis": {
           "automargin": true,
           "gridcolor": "white",
           "linecolor": "white",
           "ticks": "",
           "title": {
            "standoff": 15
           },
           "zerolinecolor": "white",
           "zerolinewidth": 2
          },
          "yaxis": {
           "automargin": true,
           "gridcolor": "white",
           "linecolor": "white",
           "ticks": "",
           "title": {
            "standoff": 15
           },
           "zerolinecolor": "white",
           "zerolinewidth": 2
          }
         }
        },
        "title": {
         "text": "Financial Loss by Industry Over Time (2015-2024, in Billion $)"
        },
        "width": 620,
        "xaxis": {
         "anchor": "y",
         "autorange": true,
         "domain": [
          0,
          1
         ],
         "range": [
          0,
          9
         ],
         "showgrid": false,
         "title": {
          "text": "Year"
         },
         "type": "category"
        },
        "yaxis": {
         "anchor": "x",
         "autorange": true,
         "domain": [
          0,
          1
         ],
         "range": [
          0,
          17117557894.736841
         ],
         "showgrid": false,
         "title": {
          "text": "Financial Loss"
         },
         "type": "linear"
        }
       }
      },
      "image/png": "[encoded data removed]"
     },
     "metadata": {},
     "output_type": "display_data"
    }
   ],
   "source": [
    "#AREA CHART OF FINANCIAL LOSS BY INDUSTRY OVER-TIME \n",
    "fig_target_industry_finloss_total = px.area(df_target_industry_finloss_total, y='Financial Loss', x='Year', \n",
    "                                         title = 'Financial Loss by Industry Over Time (2015-2024, in Billion $)', \n",
    "                                         color='Target Industry',\n",
    "                                         #text = (df_target_industry_finloss_total['Financial Loss (in Billion $)'].apply(lambda x:f\"{x}B\")),\n",
    "                                         width = 620, height=350)\n",
    "\n",
    "fig_target_industry_finloss_total.update_layout(coloraxis_showscale=False, plot_bgcolor='navy', paper_bgcolor='navy', xaxis=dict(showgrid=False),\n",
    "                                                yaxis=dict(showgrid=False),\n",
    "                                                font=dict(color='white'))\n",
    "fig_target_industry_finloss_total.show()\n",
    "\n",
    "fig_target_industry_finloss_total.write_image('fig_target_industry_finloss_total.png')"
   ]
  },
  {
   "cell_type": "code",
   "execution_count": 14,
   "id": "198adfb2-1d43-4846-8768-022d249e6183",
   "metadata": {},
   "outputs": [
    {
     "data": {
      "text/html": [
       "<div>\n",
       "<style scoped>\n",
       "    .dataframe tbody tr th:only-of-type {\n",
       "        vertical-align: middle;\n",
       "    }\n",
       "\n",
       "    .dataframe tbody tr th {\n",
       "        vertical-align: top;\n",
       "    }\n",
       "\n",
       "    .dataframe thead th {\n",
       "        text-align: right;\n",
       "    }\n",
       "</style>\n",
       "<table border=\"1\" class=\"dataframe\">\n",
       "  <thead>\n",
       "    <tr style=\"text-align: right;\">\n",
       "      <th></th>\n",
       "      <th>Country</th>\n",
       "      <th>Financial Loss (in Million $)</th>\n",
       "      <th>Financial Loss</th>\n",
       "      <th>Financial Loss (in Billion $)</th>\n",
       "    </tr>\n",
       "  </thead>\n",
       "  <tbody>\n",
       "    <tr>\n",
       "      <th>0</th>\n",
       "      <td>Australia</td>\n",
       "      <td>15403.00</td>\n",
       "      <td>15403000.0</td>\n",
       "      <td>15.40</td>\n",
       "    </tr>\n",
       "    <tr>\n",
       "      <th>1</th>\n",
       "      <td>Brazil</td>\n",
       "      <td>15782.62</td>\n",
       "      <td>15782620.0</td>\n",
       "      <td>15.78</td>\n",
       "    </tr>\n",
       "    <tr>\n",
       "      <th>2</th>\n",
       "      <td>China</td>\n",
       "      <td>13714.47</td>\n",
       "      <td>13714470.0</td>\n",
       "      <td>13.71</td>\n",
       "    </tr>\n",
       "    <tr>\n",
       "      <th>3</th>\n",
       "      <td>France</td>\n",
       "      <td>14972.28</td>\n",
       "      <td>14972280.0</td>\n",
       "      <td>14.97</td>\n",
       "    </tr>\n",
       "    <tr>\n",
       "      <th>4</th>\n",
       "      <td>Germany</td>\n",
       "      <td>15793.24</td>\n",
       "      <td>15793240.0</td>\n",
       "      <td>15.79</td>\n",
       "    </tr>\n",
       "    <tr>\n",
       "      <th>5</th>\n",
       "      <td>India</td>\n",
       "      <td>14566.12</td>\n",
       "      <td>14566120.0</td>\n",
       "      <td>14.57</td>\n",
       "    </tr>\n",
       "    <tr>\n",
       "      <th>6</th>\n",
       "      <td>Japan</td>\n",
       "      <td>15197.34</td>\n",
       "      <td>15197340.0</td>\n",
       "      <td>15.20</td>\n",
       "    </tr>\n",
       "    <tr>\n",
       "      <th>7</th>\n",
       "      <td>Russia</td>\n",
       "      <td>14734.73</td>\n",
       "      <td>14734730.0</td>\n",
       "      <td>14.73</td>\n",
       "    </tr>\n",
       "    <tr>\n",
       "      <th>8</th>\n",
       "      <td>United Kingdom</td>\n",
       "      <td>16502.99</td>\n",
       "      <td>16502990.0</td>\n",
       "      <td>16.50</td>\n",
       "    </tr>\n",
       "    <tr>\n",
       "      <th>9</th>\n",
       "      <td>United States of America</td>\n",
       "      <td>14812.12</td>\n",
       "      <td>14812120.0</td>\n",
       "      <td>14.81</td>\n",
       "    </tr>\n",
       "  </tbody>\n",
       "</table>\n",
       "</div>"
      ],
      "text/plain": [
       "                    Country  Financial Loss (in Million $)  Financial Loss  \\\n",
       "0                 Australia                       15403.00      15403000.0   \n",
       "1                    Brazil                       15782.62      15782620.0   \n",
       "2                     China                       13714.47      13714470.0   \n",
       "3                    France                       14972.28      14972280.0   \n",
       "4                   Germany                       15793.24      15793240.0   \n",
       "5                     India                       14566.12      14566120.0   \n",
       "6                     Japan                       15197.34      15197340.0   \n",
       "7                    Russia                       14734.73      14734730.0   \n",
       "8            United Kingdom                       16502.99      16502990.0   \n",
       "9  United States of America                       14812.12      14812120.0   \n",
       "\n",
       "   Financial Loss (in Billion $)  \n",
       "0                          15.40  \n",
       "1                          15.78  \n",
       "2                          13.71  \n",
       "3                          14.97  \n",
       "4                          15.79  \n",
       "5                          14.57  \n",
       "6                          15.20  \n",
       "7                          14.73  \n",
       "8                          16.50  \n",
       "9                          14.81  "
      ]
     },
     "execution_count": 14,
     "metadata": {},
     "output_type": "execute_result"
    }
   ],
   "source": [
    "#DATAFRAME OF TOTAL FINANCIAL LOSS BY COUNTRY\n",
    "df_country_finloss_total = df.groupby('Country')['Financial Loss (in Million $)'].sum().reset_index()\n",
    "df_country_finloss_total['Financial Loss'] = (df_country_finloss_total['Financial Loss (in Million $)']*1e3).round(2)\n",
    "df_country_finloss_total['Financial Loss (in Billion $)'] = (df_country_finloss_total['Financial Loss (in Million $)']/1e3).round(2)\n",
    "df_country_finloss_total['Country']= df_country_finloss_total['Country'].replace({'USA':'United States of America', 'UK':'United Kingdom'})\n",
    "df_country_finloss_total"
   ]
  },
  {
   "cell_type": "code",
   "execution_count": 34,
   "id": "dbccd05a-7403-4040-adaa-a2533054dd19",
   "metadata": {},
   "outputs": [
    {
     "name": "stdout",
     "output_type": "stream",
     "text": [
      "Map generated successfully: 'choropleth_map_with_callouts_finloss.html'\n"
     ]
    }
   ],
   "source": [
    "#CHOROPLETH MAP OF TOTAL FINANCIAL LOSS BY COUNTRY\n",
    "\n",
    "import json\n",
    "import folium\n",
    "\n",
    "# Step 1: Load GeoJSON data\n",
    "with open(\"custom.geo.json\", \"r\", encoding=\"utf-8\") as geojson_file:\n",
    "    geojson_data = json.load(geojson_file)\n",
    "\n",
    "# Step 2: Initialize the map\n",
    "choropleth_map_finloss = folium.Map(location=[10, 0], zoom_start=2, tiles=\"Cartodb Positron\")\n",
    "\n",
    "# Step 3: Add Choropleth layer\n",
    "folium.Choropleth(\n",
    "    geo_data=geojson_data,\n",
    "    data=df_country_finloss_total,\n",
    "    columns=[\"Country\", \"Financial Loss (in Million $)\"],\n",
    "    key_on=\"feature.properties.name\",\n",
    "    fill_color='Blues',\n",
    "    nan_fill_color=\"transparent\",\n",
    "    fill_opacity=0.7,\n",
    "    line_opacity=0.2,\n",
    "    legend_name=\"Financial Loss (in Million $)\"\n",
    ").add_to(choropleth_map_finloss)\n",
    "\n",
    "# Step 4: Add GeoJSON layer for tooltips\n",
    "folium.GeoJson(\n",
    "    geojson_data,\n",
    "    style_function=lambda x: {\n",
    "        \"fillColor\": \"transparent\",\n",
    "        \"color\": \"black\",\n",
    "        \"weight\": 0.5,\n",
    "        \"fillOpacity\": 0,\n",
    "    },\n",
    "    tooltip=folium.GeoJsonTooltip(\n",
    "        fields=[\"name\"],\n",
    "        aliases=[\"Country: \"],\n",
    "        localize=True,\n",
    "    ),\n",
    ").add_to(choropleth_map_finloss)\n",
    "\n",
    "# Step 5: Define top 10 affected countries\n",
    "countries_finloss = [\n",
    "    {\"name\": \"Australia\", \"lat\": -25.2744, \"lon\": 133.7751, \"callbox_position\": \"right\", \"Financial Loss (in Billion $)\": \"15.40B\"},\n",
    "    {\"name\": \"Brazil\", \"lat\": -14.2350, \"lon\": -51.9253, \"callbox_position\": \"right\", \"Financial Loss (in Billion $)\": \"15.78B\"},\n",
    "    {\"name\": \"China\", \"lat\": 35.8617, \"lon\": 104.1954, \"callbox_position\": \"left\", \"Financial Loss (in Billion $)\": \"13.71B\"},\n",
    "    {\"name\": \"France\", \"lat\": 46.6034, \"lon\": 1.8883, \"callbox_position\": \"left\", \"Financial Loss (in Billion $)\": \"14.97B\"},\n",
    "    {\"name\": \"Germany\", \"lat\": 51.1657, \"lon\": 10.4515, \"callbox_position\": \"right\", \"Financial Loss (in Billion $)\": \"15.79B\"},\n",
    "    {\"name\": \"India\", \"lat\": 20.5937, \"lon\": 78.9629, \"callbox_position\": \"right\", \"Financial Loss (in Billion $)\": \"14.57B\"},\n",
    "    {\"name\": \"Japan\", \"lat\": 36.2048, \"lon\": 138.2529, \"callbox_position\": \"right\", \"Financial Loss (in Billion $)\": \"15.20B\"},\n",
    "    {\"name\": \"Russia\", \"lat\": 61.5240, \"lon\": 105.3188, \"callbox_position\": \"right\", \"Financial Loss (in Billion $)\": \"14.73B\"},\n",
    "    {\"name\": \"United Kingdom\", \"lat\": 55.3781, \"lon\": -3.4360, \"callbox_position\": \"left\", \"Financial Loss (in Billion $)\": \"16.50B\"},\n",
    "    {\"name\": \"United States of America\", \"lat\": 37.0902, \"lon\": -95.7129, \"callbox_position\": \"left\", \"Financial Loss (in Billion $)\": \"14.81B\"}\n",
    "]\n",
    "\n",
    "# Step 6: Add callout boxes and connecting lines\n",
    "for country in countries_finloss:\n",
    "    offset_lat = country[\"lat\"] + 5\n",
    "    offset_lon = country[\"lon\"] + (40 if country[\"callbox_position\"] == \"right\" else -80)\n",
    "\n",
    "    box_html = f\"\"\"\n",
    "    <div style=\"\n",
    "        background-color: white;\n",
    "        border: 1px solid black;\n",
    "        border-radius: 5px;\n",
    "        padding: 10px;\n",
    "        width: 250px;\n",
    "        height:30px;\n",
    "        display:flex;\n",
    "        align-items:center;\n",
    "        font-size:14px;\n",
    "        justify-content: center;\n",
    "        box-shadow: 2px 2px 5px rgba(0, 0, 0, 0.3);\">\n",
    "        <b>{country['name']} ({country['Financial Loss (in Billion $)']})</b>\n",
    "    </div>\n",
    "    \"\"\"\n",
    "\n",
    "    folium.Marker(\n",
    "        location=[offset_lat, offset_lon],\n",
    "        icon=folium.DivIcon(html=box_html)\n",
    "    ).add_to(choropleth_map_finloss)\n",
    "\n",
    "    folium.PolyLine(\n",
    "        locations=[[country[\"lat\"], country[\"lon\"]], [offset_lat, offset_lon]],\n",
    "        color=\"black\",\n",
    "        weight=1\n",
    "    ).add_to(choropleth_map_finloss)\n",
    "\n",
    "# Step 7: Add summary callout box in ocean area\n",
    "summary_html = \"\"\"\n",
    "<div style=\"background-color: white; border-radius: 10px; padding: 10px; width: 400px; box-shadow: 2px 2px 10px rgba(0, 0, 0, 0.3);\">\n",
    "    <h4 style=\"margin: 0; text-align: center; color:dodgerblue;\"><b>FINANCIAL LOSS BY COUNTRY</b><br>(2011-2024, in Billion $)</h4>\n",
    "    <table style=\"width: 100%; border-collapse: collapse; font-size: 14px;\">\n",
    "        <thead>\n",
    "            <tr style=\"border-bottom: 1px solid #ddd; text-align: left;\">\n",
    "                <th style=\"width: 15%;\">Rank</th>\n",
    "                <th style=\"width: 50%;\">Country</th>\n",
    "                <th style=\"width: 35%;\">Loss (Billion $)</th>\n",
    "            </tr>\n",
    "        </thead>\n",
    "        <tbody>\n",
    "            <tr><td>1</td><td>United Kingdom</td><td>16.50B</td></tr>\n",
    "            <tr><td>2</td><td>Brazil</td><td>15.78B</td></tr>\n",
    "            <tr><td>3</td><td>Germany</td><td>15.79B</td></tr>\n",
    "            <tr><td>4</td><td>Australia</td><td>15.40B</td></tr>\n",
    "            <tr><td>5</td><td>Japan</td><td>15.20B</td></tr>\n",
    "            <tr><td>6</td><td>France</td><td>14.97B</td></tr>\n",
    "            <tr><td>7</td><td>Russia</td><td>14.73B</td></tr>\n",
    "            <tr><td>8</td><td>United States of America</td><td>14.81B</td></tr>\n",
    "            <tr><td>9</td><td>India</td><td>14.57B</td></tr>\n",
    "            <tr><td>10</td><td>China</td><td>13.71B</td></tr>\n",
    "        </tbody>\n",
    "    </table>\n",
    "</div>\n",
    "\"\"\"\n",
    "\n",
    "folium.Marker(\n",
    "    location=[80, 270],\n",
    "    icon=folium.DivIcon(html=summary_html)\n",
    ").add_to(choropleth_map_finloss)\n",
    "\n",
    "title_html = \"\"\"\n",
    "<div style=\"background-color: white; border-radius: 10px; padding: 10px; width: 600px; box-shadow: 2px 2px 10px rgba(0, 0, 0, 0.3);\">\n",
    "    <h3 style=\"margin: 0; text-align: center; color:dodgerblue;\"><b>CHOROPLETH MAP OF FINANCIAL LOSS BY COUNTRY</b></h3>\n",
    "\"\"\"\n",
    "\n",
    "folium.Marker(\n",
    "    location=[110, 15],\n",
    "    icon=folium.DivIcon(html=title_html)\n",
    ").add_to(choropleth_map_finloss)\n",
    "\n",
    "\n",
    "# Step 8: Save map\n",
    "choropleth_map_finloss.save(\"choropleth_map_with_callouts_finloss.html\")\n",
    "print(\"Map generated successfully: 'choropleth_map_with_callouts_finloss.html'\")\n",
    "\n",
    "\n",
    "\n"
   ]
  },
  {
   "cell_type": "markdown",
   "id": "c8671cf0-6097-44f9-b60e-f7e2b23e2ec9",
   "metadata": {},
   "source": [
    "![Choropleth Map](choropleth_finloss.png)"
   ]
  },
  {
   "cell_type": "code",
   "execution_count": null,
   "id": "b56ed766-46d4-4cbc-8fb5-e7ef79856fda",
   "metadata": {},
   "outputs": [],
   "source": []
  }
 ],
 "metadata": {
  "kernelspec": {
   "display_name": "Python 3 (ipykernel)",
   "language": "python",
   "name": "python3"
  },
  "language_info": {
   "codemirror_mode": {
    "name": "ipython",
    "version": 3
   },
   "file_extension": ".py",
   "mimetype": "text/x-python",
   "name": "python",
   "nbconvert_exporter": "python",
   "pygments_lexer": "ipython3",
   "version": "3.13.0"
  }
 },
 "nbformat": 4,
 "nbformat_minor": 5
}
